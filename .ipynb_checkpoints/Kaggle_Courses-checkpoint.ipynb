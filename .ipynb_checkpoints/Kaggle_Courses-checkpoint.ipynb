{
 "cells": [
  {
   "cell_type": "markdown",
   "id": "382940f7-9d64-4ca0-90a6-65d9e89ae068",
   "metadata": {},
   "source": [
    "# Tutorials Followed: https://www.kaggle.com/learn"
   ]
  },
  {
   "cell_type": "code",
   "execution_count": 1,
   "id": "aa4df7f5-4f94-44fd-b060-4a1275c5933c",
   "metadata": {},
   "outputs": [
    {
     "name": "stdout",
     "output_type": "stream",
     "text": [
      "greetings to my new sandbox\n"
     ]
    }
   ],
   "source": [
    "print(\"greetings to my new sandbox\")"
   ]
  }
 ],
 "metadata": {
  "kernelspec": {
   "display_name": "Python 3 (ipykernel)",
   "language": "python",
   "name": "python3"
  },
  "language_info": {
   "codemirror_mode": {
    "name": "ipython",
    "version": 3
   },
   "file_extension": ".py",
   "mimetype": "text/x-python",
   "name": "python",
   "nbconvert_exporter": "python",
   "pygments_lexer": "ipython3",
   "version": "3.13.5"
  }
 },
 "nbformat": 4,
 "nbformat_minor": 5
}
