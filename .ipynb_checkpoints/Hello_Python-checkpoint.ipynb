{
 "cells": [
  {
   "cell_type": "markdown",
   "id": "382940f7-9d64-4ca0-90a6-65d9e89ae068",
   "metadata": {},
   "source": [
    "# Hello, Python: Kaggle"
   ]
  },
  {
   "cell_type": "markdown",
   "id": "ee62bf84-f0e7-42cc-b1c7-05c94085d8d3",
   "metadata": {},
   "source": [
    "4 Sept 2025: This serves as a refresher for me, it's just been a while since I worked with Python. I glossed over the portions of the course I still fully understand / remember and focused on the parts I'm rusty with.\n",
    "\n",
    "Tutorial: https://www.kaggle.com/code/colinmorris/hello-python"
   ]
  },
  {
   "cell_type": "code",
   "execution_count": 4,
   "id": "aa4df7f5-4f94-44fd-b060-4a1275c5933c",
   "metadata": {},
   "outputs": [
    {
     "name": "stdout",
     "output_type": "stream",
     "text": [
      "SpamSpamSpamSpam\n"
     ]
    }
   ],
   "source": [
    "## apparently this is known as \"operator overloading\"\n",
    "spam_amount = 4\n",
    "viking_song = \"Spam\" * spam_amount\n",
    "print(viking_song)"
   ]
  },
  {
   "cell_type": "code",
   "execution_count": 9,
   "id": "c7d79944-3785-46fb-9a35-fd9f3731c032",
   "metadata": {},
   "outputs": [
    {
     "data": {
      "text/plain": [
       "int"
      ]
     },
     "execution_count": 9,
     "metadata": {},
     "output_type": "execute_result"
    }
   ],
   "source": [
    "type(spam_amount)\n",
    "# type(viking_song) # reminder to self that in situations like this, only the latter statement prints"
   ]
  },
  {
   "cell_type": "code",
   "execution_count": 7,
   "id": "af809889-7953-40c8-8ff9-3c77c387c668",
   "metadata": {},
   "outputs": [
    {
     "data": {
      "text/plain": [
       "str"
      ]
     },
     "execution_count": 7,
     "metadata": {},
     "output_type": "execute_result"
    }
   ],
   "source": [
    "type(viking_song)"
   ]
  }
 ],
 "metadata": {
  "kernelspec": {
   "display_name": "Python 3 (ipykernel)",
   "language": "python",
   "name": "python3"
  },
  "language_info": {
   "codemirror_mode": {
    "name": "ipython",
    "version": 3
   },
   "file_extension": ".py",
   "mimetype": "text/x-python",
   "name": "python",
   "nbconvert_exporter": "python",
   "pygments_lexer": "ipython3",
   "version": "3.13.5"
  }
 },
 "nbformat": 4,
 "nbformat_minor": 5
}
