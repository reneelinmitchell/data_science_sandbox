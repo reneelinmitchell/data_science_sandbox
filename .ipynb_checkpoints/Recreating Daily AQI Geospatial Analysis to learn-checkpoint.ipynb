{
 "cells": [
  {
   "cell_type": "markdown",
   "id": "a3d5a813-266b-4fe4-a261-0df3d2f69ad5",
   "metadata": {},
   "source": [
    "## Recreating a notebook to learn: Daily AQI Geospatial Analysis\n",
    "\n",
    "Link to the original notebook: https://www.kaggle.com/code/azminetoushikwasi/daily-aqi-geospatial-analysis\n",
    "\n",
    "This is about Air Quality Index (AQI), which describes the degree of pollution in the air\n",
    "\n",
    "The original notebook has a nice graphic but I'll just practice using Markdown to import a picture:\n",
    "\n",
    "![Cat in a strawberry hat](img/Wicked_Background_Final.png)"
   ]
  },
  {
   "cell_type": "markdown",
   "id": "054e9760-7e34-478b-9fec-5c93123bf401",
   "metadata": {},
   "source": [
    "AQIs:\n",
    "\n",
    "- 0 - 50 : Good\n",
    "- 51 - 100: Satisfactory\n",
    "- 101 - 200: Moderate\n",
    "- 201 - 300: Poor\n",
    "- 301 - 400: Very Poor\n",
    "- 401 - 500: Severe"
   ]
  }
 ],
 "metadata": {
  "kernelspec": {
   "display_name": "Python 3 (ipykernel)",
   "language": "python",
   "name": "python3"
  },
  "language_info": {
   "codemirror_mode": {
    "name": "ipython",
    "version": 3
   },
   "file_extension": ".py",
   "mimetype": "text/x-python",
   "name": "python",
   "nbconvert_exporter": "python",
   "pygments_lexer": "ipython3",
   "version": "3.13.5"
  }
 },
 "nbformat": 4,
 "nbformat_minor": 5
}
