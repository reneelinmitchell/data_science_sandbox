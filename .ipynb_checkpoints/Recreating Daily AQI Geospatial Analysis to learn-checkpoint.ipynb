{
 "cells": [
  {
   "cell_type": "markdown",
   "id": "a3d5a813-266b-4fe4-a261-0df3d2f69ad5",
   "metadata": {},
   "source": [
    "## Recreating a notebook to learn: Daily AQI Geospatial Analysis\n",
    "\n",
    "Link to the original notebook: https://www.kaggle.com/code/azminetoushikwasi/daily-aqi-geospatial-analysis\n",
    "\n",
    "This is about Air Quality Index (AQI), which describes the degree of pollution in the air\n",
    "\n",
    "The original notebook has a nice graphic but I'll just practice using Markdown to import a picture:\n",
    "\n",
    "![Cat in a strawberry hat](img/Wicked_Background_Final.png)"
   ]
  },
  {
   "cell_type": "markdown",
   "id": "054e9760-7e34-478b-9fec-5c93123bf401",
   "metadata": {},
   "source": [
    "AQIs:\n",
    "\n",
    "- 0 - 50 : Good\n",
    "- 51 - 100: Satisfactory\n",
    "- 101 - 200: Moderate\n",
    "- 201 - 300: Poor\n",
    "- 301 - 400: Very Poor\n",
    "- 401 - 500: Severe"
   ]
  },
  {
   "cell_type": "code",
   "execution_count": 1,
   "id": "bf0973f4-5d19-4a8d-a3eb-2c4c6e3007ef",
   "metadata": {},
   "outputs": [],
   "source": [
    "import numpy as np # linear algebra\n",
    "import pandas as pd # data processing, CSV file I/O (e.g. pd.read_csv)\n",
    "import numpy as np \n",
    "import pandas as pd \n",
    "import os # provides a portable way of using operating system dependent functionality\n",
    "import seaborn as sns # Python data visualization library based on matplotlib\n",
    "import matplotlib.pyplot as plt\n",
    "from scipy import stats # scientific computation library that uses NumPy underneath\n",
    "import warnings # built-in module designed to manage and control warning messages generated during program execution\n",
    "import json\n",
    "\n",
    "from bs4 import BeautifulSoup as BeautifulSoup # Python library designed for parsing HTML and XML documents, making it a popular tool for web scraping\n",
    "import pandas as pd # why import pandas twice? perhaps mistake?\n",
    "from urllib.request import Request, urlopen # urllib is a package that collects several modules for working with URLs: urllib.request for opening and reading URLs\n",
    "import re # provides support for regular expressions, which are powerful tools for pattern matching and manipulation of strings\n",
    "import time\n",
    "import random\n",
    "from datetime import datetime\n",
    "import warnings\n",
    "warnings.filterwarnings('ignore')\n",
    "\n",
    "\"\"\"\n",
    "Bokeh is a Python interactive visualization library that enables the creation of elegant and interactive plots, \n",
    "dashboards, and data applications for modern web browsers\n",
    "\"\"\"\n",
    "from bokeh.io import output_notebook, show, output_file\n",
    "from bokeh.plotting import figure\n",
    "from bokeh.models import GeoJSONDataSource, LinearColorMapper, ColorBar\n",
    "from bokeh.palettes import brewer,all_palettes\n",
    "import geopandas as gpd\n",
    "import plotly.express as px"
   ]
  },
  {
   "cell_type": "code",
   "execution_count": 2,
   "id": "1818db14-67ad-4f4b-b1be-9762c6dd3877",
   "metadata": {},
   "outputs": [],
   "source": [
    "## Creating some lists\n",
    "\n",
    "aqi_name_list=['Albania', 'Algeria', 'Andorra', 'Angola', 'Argentina', 'Armenia', 'Australia',\n",
    "               'Austria', 'Azerbaijan', 'Bahrain', 'Bangladesh', 'Belarus', 'Belgium', 'Belize', 'Bermuda',\n",
    "               'Bolivia', 'Bosnia and Herzegovina', 'Brazil', 'Brunei', 'Bulgaria', 'Burkina Faso', 'Cambodia',\n",
    "               'Canada', 'Cape Verde', 'Cayman Islands', 'Central African Republic', 'Chad', 'Chile', 'China',\n",
    "               'Colombia', 'Costa Rica', 'Croatia', 'Cyprus', 'Czech Republic', 'Denmark', 'Dominican Republic',\n",
    "               'Ecuador', 'Egypt', 'El Salvador', 'Estonia', 'Ethiopia', 'Finland', 'France', 'French Guiana',\n",
    "               'Gabon', 'Gambia', 'Georgia', 'Germany', 'Ghana', 'Gibraltar', 'Greece', 'Grenada', 'Guadeloupe',\n",
    "               'Guam', 'Guatemala', 'Honduras', 'Hong Kong', 'Hungary', 'Iceland', 'India', 'Indonesia', 'Iran',\n",
    "               'Iraq', 'Ireland', 'Israel', 'Italy', 'Ivory Coast', 'Japan', 'Jersey', 'Jordan', 'Kazakhstan',\n",
    "               'Kenya', 'Kosovo', 'Kuwait', 'Kyrgyzstan', 'Laos', 'Latvia', 'Lebanon', 'Liberia', 'Liechtenstein',\n",
    "               'Lithuania', 'Luxembourg', 'Macao', 'Macedonia', 'Madagascar', 'Malaysia', 'Malta', 'Martinique',\n",
    "               'Mexico', 'Moldova', 'Monaco', 'Mongolia', 'Montenegro', 'Myanmar', 'Nepal', 'Netherlands', 'New Caledonia',\n",
    "               'New Zealand', 'Nigeria', 'Norway', 'Pakistan', 'Palestinian Territory', 'Peru', 'Philippines', 'Poland',\n",
    "               'Portugal', 'Puerto Rico', 'Qatar', 'Reunion', 'Romania', 'Russia', 'San Marino', 'Saudi Arabia', 'Senegal',\n",
    "               'Serbia', 'Singapore', 'Slovakia', 'Slovenia', 'South Africa', 'South Korea', 'Spain', 'Sri Lanka', 'Sudan',\n",
    "               'Sweden', 'Switzerland', 'Taiwan', 'Tajikistan', 'Thailand', 'Togo', 'Trinidad and Tobago', 'Turkey', 'Turkmenistan',\n",
    "               'Uganda', 'Ukraine', 'United Arab Emirates', 'United Kingdom of Great Britain and Northern Ireland', 'United States of America', \n",
    "               'Uzbekistan', 'Vatican', 'Venezuela',\n",
    "               'Vietnam', 'Zambia']\n",
    "aqi_list =['/country/albania/', '/country/algeria/', '/country/andorra/', \n",
    " '/country/angola/', '/country/argentina/', '/country/armenia/', '/country/australia/', \n",
    " '/country/austria/', '/country/azerbaijan/', '/country/bahrain/', '/country/bangladesh/', \n",
    " '/country/belarus/', '/country/belgium/', '/country/belize/', '/country/bermuda/', '/country/bolivia/', \n",
    " '/country/bosnia-and-herzegovina/', '/country/brazil/', '/country/brunei/', '/country/bulgaria/', '/country/burkina-faso/',\n",
    " '/country/cambodia/', '/country/canada/', '/country/cape-verde/', '/country/cayman-islands/', '/country/central-african-republic/', \n",
    " '/country/chad/', '/country/chile/', '/country/china/', '/country/colombia/', '/country/costa-rica/', '/country/croatia/', \n",
    " '/country/cyprus/', '/country/czech-republic/', '/country/denmark/', '/country/dominican-republic/', '/country/ecuador/', \n",
    " '/country/egypt/', '/country/el-salvador/', '/country/estonia/', '/country/ethiopia/', '/country/finland/', '/country/france/', \n",
    " '/country/french-guiana/', '/country/gabon/', '/country/gambia/', '/country/georgia/', '/country/germany/', '/country/ghana/', \n",
    " '/country/gibraltar/', '/country/greece/', '/country/grenada/', '/country/guadeloupe/', '/country/guam/', '/country/guatemala/', \n",
    " '/country/honduras/', '/country/hong-kong/', '/country/hungary/', '/country/iceland/', '/country/india/', '/country/indonesia/',\n",
    " '/country/iran/', '/country/iraq/', '/country/ireland/', '/country/israel/', '/country/italy/', '/country/ivory-coast/', \n",
    " '/country/japan/', '/country/jersey/', '/country/jordan/', '/country/kazakhstan/', '/country/kenya/', '/country/kosovo/',\n",
    " '/country/kuwait/', '/country/kyrgyzstan/', '/country/laos/', '/country/latvia/', '/country/lebanon/', '/country/liberia/',\n",
    " '/country/liechtenstein/', '/country/lithuania/', '/country/luxembourg/', '/country/macao/', '/country/macedonia/', \n",
    " '/country/madagascar/', '/country/malaysia/', '/country/malta/', '/country/martinique/', '/country/mexico/', '/country/moldova/',\n",
    " '/country/monaco/', '/country/mongolia/', '/country/montenegro/', '/country/myanmar/', '/country/nepal/', '/country/netherlands/',\n",
    " '/country/new-caledonia/', '/country/new-zealand/', '/country/nigeria/', '/country/norway/', '/country/pakistan/', \n",
    " '/country/palestinian-territory/', '/country/peru/', '/country/philippines/', '/country/poland/', '/country/portugal/', \n",
    " '/country/puerto-rico/', '/country/qatar/', '/country/reunion/', '/country/romania/', '/country/russia/', '/country/san-marino/',\n",
    " '/country/saudi-arabia/', '/country/senegal/', '/country/serbia/', '/country/singapore/', '/country/slovakia/', '/country/slovenia/',\n",
    " '/country/south-africa/', '/country/south-korea/', '/country/spain/', '/country/sri-lanka/', '/country/sudan/', '/country/sweden/', \n",
    " '/country/switzerland/', '/country/taiwan/', '/country/tajikistan/', '/country/thailand/', '/country/togo/', '/country/trinidad-and-tobago/', \n",
    " '/country/turkey/', '/country/turkmenistan/', '/country/uganda/', '/country/ukraine/', '/country/united-arab-emirates/', '/country/united-kingdom/', \n",
    " '/country/united-states/', '/country/uzbekistan/', '/country/vatican/', '/country/venezuela/', '/country/vietnam/', '/country/zambia/']"
   ]
  },
  {
   "cell_type": "code",
   "execution_count": 24,
   "id": "5d82a4e7-3d81-4e84-be4f-36cd8d169cb4",
   "metadata": {},
   "outputs": [],
   "source": [
    "## trying out request and urlopen with just one webpage - for Uzbekistan!\n",
    "req = Request('https://aqicn.org/country/uzbekistan', headers = {'User-Agent': 'Mozilla/5.0'})\n",
    "webpage = urlopen(req).read()\n",
    "#webpage"
   ]
  },
  {
   "cell_type": "code",
   "execution_count": 25,
   "id": "66fbe1a1-d7e5-4fb0-8219-d127a839d654",
   "metadata": {},
   "outputs": [],
   "source": [
    "soup = BeautifulSoup(webpage, 'html.parser')\n",
    "#soup"
   ]
  },
  {
   "cell_type": "code",
   "execution_count": 5,
   "id": "f1318199-01a9-4daa-98b1-bc0d1710b47b",
   "metadata": {},
   "outputs": [
    {
     "data": {
      "text/plain": [
       "[<div class=\"country-aqi-value\" style=\"background-color: #70b750;color:#000000\">22</div>]"
      ]
     },
     "execution_count": 5,
     "metadata": {},
     "output_type": "execute_result"
    }
   ],
   "source": [
    "div_aqi_value_lst = soup.select('div.country-aqi-value')\n",
    "div_aqi_value_lst"
   ]
  },
  {
   "cell_type": "code",
   "execution_count": 6,
   "id": "cc6290dd-5c03-493e-a35a-fdff530c5b2c",
   "metadata": {},
   "outputs": [
    {
     "name": "stdout",
     "output_type": "stream",
     "text": [
      "<div class=\"country-aqi-value\" style=\"background-color: #70b750;color:#000000\">22</div>\n",
      "22\n",
      "22\n"
     ]
    }
   ],
   "source": [
    "## Getting the AQI just for Uzbekistan still before putting all the countries through the for loop\n",
    "\n",
    "aqi_value_uzbekistan = div_aqi_value_lst[0].text\n",
    "\n",
    "print(div_aqi_value_lst[0])\n",
    "# print(products[1]) # this goes out of range - only element in the products list is the div\n",
    "print(div_aqi_value_lst[0].text)\n",
    "print(aqi_value_uzbekistan)"
   ]
  },
  {
   "cell_type": "code",
   "execution_count": 7,
   "id": "b2d2d775-19fa-4ad6-85b6-f7cff9846703",
   "metadata": {},
   "outputs": [
    {
     "name": "stdout",
     "output_type": "stream",
     "text": [
      "[<div class=\"country-aqi-impact\" style=\"color: #009966;text-shadow: 1px 1px 0 #000000\">Good</div>]\n",
      "Good\n"
     ]
    }
   ],
   "source": [
    "## Now getting AQI impact just for Uzbekistan\n",
    "\n",
    "div_aqi_impact_lst = soup.select('div.country-aqi-impact')\n",
    "aqi_status_uzbekistan = div_aqi_impact_lst[0].text\n",
    "\n",
    "print(div_aqi_impact_lst)\n",
    "print(aqi_status_uzbekistan)"
   ]
  },
  {
   "cell_type": "code",
   "execution_count": 8,
   "id": "cb68386a-8d88-49d3-96bd-829ac570c065",
   "metadata": {},
   "outputs": [
    {
     "name": "stdout",
     "output_type": "stream",
     "text": [
      "0.704225352112676% done\n",
      "1.408450704225352% done\n",
      "2.112676056338028% done\n",
      "2.816901408450704% done\n",
      "3.5211267605633805% done\n",
      "4.225352112676056% done\n",
      "4.929577464788732% done\n",
      "5.633802816901408% done\n",
      "6.338028169014085% done\n",
      "7.042253521126761% done\n",
      "7.746478873239437% done\n",
      "8.450704225352112% done\n",
      "9.154929577464788% done\n",
      "9.859154929577464% done\n",
      "10.56338028169014% done\n",
      "11.267605633802816% done\n",
      "11.971830985915492% done\n",
      "12.67605633802817% done\n",
      "13.380281690140846% done\n",
      "14.084507042253522% done\n",
      "14.788732394366198% done\n",
      "15.492957746478874% done\n",
      "16.197183098591548% done\n",
      "16.901408450704224% done\n",
      "17.6056338028169% done\n",
      "18.309859154929576% done\n",
      "19.014084507042252% done\n",
      "19.718309859154928% done\n",
      "20.422535211267604% done\n",
      "21.12676056338028% done\n",
      "21.830985915492956% done\n",
      "22.535211267605632% done\n",
      "23.239436619718308% done\n",
      "23.943661971830984% done\n",
      "24.64788732394366% done\n",
      "25.35211267605634% done\n",
      "26.056338028169016% done\n",
      "26.760563380281692% done\n",
      "27.464788732394368% done\n",
      "28.169014084507044% done\n",
      "28.87323943661972% done\n",
      "29.577464788732396% done\n",
      "30.281690140845072% done\n",
      "30.985915492957748% done\n",
      "31.690140845070424% done\n",
      "32.394366197183096% done\n",
      "33.098591549295776% done\n",
      "33.80281690140845% done\n",
      "34.50704225352113% done\n",
      "35.2112676056338% done\n",
      "35.91549295774648% done\n",
      "36.61971830985915% done\n",
      "37.32394366197183% done\n",
      "38.028169014084504% done\n",
      "38.732394366197184% done\n",
      "39.436619718309856% done\n",
      "40.140845070422536% done\n",
      "40.84507042253521% done\n",
      "41.54929577464789% done\n",
      "42.25352112676056% done\n",
      "42.95774647887324% done\n",
      "43.66197183098591% done\n",
      "44.36619718309859% done\n",
      "45.070422535211264% done\n",
      "45.774647887323944% done\n",
      "46.478873239436616% done\n",
      "47.183098591549296% done\n",
      "47.88732394366197% done\n",
      "48.59154929577465% done\n",
      "49.29577464788732% done\n",
      "50.0% done\n",
      "50.70422535211268% done\n",
      "51.40845070422535% done\n",
      "52.11267605633803% done\n",
      "52.816901408450704% done\n",
      "53.521126760563384% done\n",
      "54.225352112676056% done\n",
      "54.929577464788736% done\n",
      "55.63380281690141% done\n",
      "56.33802816901409% done\n",
      "57.04225352112676% done\n",
      "57.74647887323944% done\n",
      "58.45070422535211% done\n",
      "59.15492957746479% done\n",
      "59.859154929577464% done\n",
      "60.563380281690144% done\n",
      "61.267605633802816% done\n",
      "61.971830985915496% done\n",
      "62.67605633802817% done\n",
      "63.38028169014085% done\n",
      "64.08450704225352% done\n",
      "64.78873239436619% done\n",
      "65.49295774647888% done\n",
      "66.19718309859155% done\n",
      "66.90140845070422% done\n",
      "67.6056338028169% done\n",
      "68.30985915492958% done\n",
      "69.01408450704226% done\n",
      "69.71830985915493% done\n",
      "70.4225352112676% done\n",
      "71.12676056338029% done\n",
      "71.83098591549296% done\n",
      "72.53521126760563% done\n",
      "73.2394366197183% done\n",
      "73.94366197183099% done\n",
      "74.64788732394366% done\n",
      "75.35211267605634% done\n",
      "76.05633802816901% done\n",
      "76.7605633802817% done\n",
      "77.46478873239437% done\n",
      "78.16901408450704% done\n",
      "78.87323943661971% done\n",
      "79.5774647887324% done\n",
      "80.28169014084507% done\n",
      "80.98591549295774% done\n",
      "81.69014084507042% done\n",
      "82.3943661971831% done\n",
      "83.09859154929578% done\n",
      "83.80281690140845% done\n",
      "84.50704225352112% done\n",
      "85.21126760563381% done\n",
      "85.91549295774648% done\n",
      "86.61971830985915% done\n",
      "87.32394366197182% done\n",
      "88.02816901408451% done\n",
      "88.73239436619718% done\n",
      "89.43661971830986% done\n",
      "90.14084507042253% done\n",
      "90.84507042253522% done\n",
      "91.54929577464789% done\n",
      "92.25352112676056% done\n",
      "92.95774647887323% done\n",
      "93.66197183098592% done\n",
      "94.36619718309859% done\n",
      "95.07042253521126% done\n",
      "95.77464788732394% done\n",
      "96.47887323943662% done\n",
      "97.1830985915493% done\n",
      "97.88732394366197% done\n",
      "98.59154929577464% done\n",
      "99.29577464788733% done\n",
      "100.0% done\n"
     ]
    }
   ],
   "source": [
    "aqi_values = []\n",
    "aqi_statuses = []\n",
    "\n",
    "for i in range(len(aqi_list)):\n",
    "    country_url_part = aqi_list[i]\n",
    "    country_name = aqi_name_list[i]\n",
    "\n",
    "    url = 'https://aqicn.org' + country_url_part\n",
    "    req = Request(url, headers = {'User-Agent': 'Mozilla/5.0'})\n",
    "    webpage = urlopen(req).read()\n",
    "    \n",
    "    soup = BeautifulSoup(webpage, 'html.parser')\n",
    "\n",
    "    div_aqi_value_lst = soup.select('div.country-aqi-value')\n",
    "    aqi_value = div_aqi_value_lst[0].text\n",
    "    aqi_values.append(aqi_value)\n",
    "\n",
    "    div_aqi_impact_lst = soup.select('div.country-aqi-impact')\n",
    "    aqi_status = div_aqi_impact_lst[0].text\n",
    "    aqi_statuses.append(aqi_status)\n",
    "\n",
    "    print(str((i + 1) * 100 / len(aqi_list)) + \"% done\") # guessing this returns percent done over time\n",
    "\n",
    "    time.sleep(random.randint(0, 2)) # time.sleep() can let the server take breaks during computing and avoid overwhelming the server\n",
    " "
   ]
  },
  {
   "cell_type": "code",
   "execution_count": 9,
   "id": "d190266b-a25e-4218-9b7d-25975c603b87",
   "metadata": {},
   "outputs": [],
   "source": [
    "## Get today's date\n",
    "today_date = datetime.today().strftime('%Y-%m-%d')\n",
    "\n",
    "## Create a dictionary to store the country names, status, and AQI values\n",
    "today_data = {\n",
    "    \"Country\": aqi_name_list,\n",
    "    \"Status\": aqi_statuses,\n",
    "    \"AQI Value\": aqi_values\n",
    "    }"
   ]
  },
  {
   "cell_type": "code",
   "execution_count": 10,
   "id": "9183d80b-3b6b-4b31-8923-457bda273ea8",
   "metadata": {},
   "outputs": [
    {
     "name": "stdout",
     "output_type": "stream",
     "text": [
      "2025-09-09\n",
      "['Albania', 'Algeria', 'Andorra', 'Angola', 'Argentina', 'Armenia', 'Australia', 'Austria', 'Azerbaijan', 'Bahrain', 'Bangladesh', 'Belarus', 'Belgium', 'Belize', 'Bermuda', 'Bolivia', 'Bosnia and Herzegovina', 'Brazil', 'Brunei', 'Bulgaria', 'Burkina Faso', 'Cambodia', 'Canada', 'Cape Verde', 'Cayman Islands', 'Central African Republic', 'Chad', 'Chile', 'China', 'Colombia', 'Costa Rica', 'Croatia', 'Cyprus', 'Czech Republic', 'Denmark', 'Dominican Republic', 'Ecuador', 'Egypt', 'El Salvador', 'Estonia', 'Ethiopia', 'Finland', 'France', 'French Guiana', 'Gabon', 'Gambia', 'Georgia', 'Germany', 'Ghana', 'Gibraltar', 'Greece', 'Grenada', 'Guadeloupe', 'Guam', 'Guatemala', 'Honduras', 'Hong Kong', 'Hungary', 'Iceland', 'India', 'Indonesia', 'Iran', 'Iraq', 'Ireland', 'Israel', 'Italy', 'Ivory Coast', 'Japan', 'Jersey', 'Jordan', 'Kazakhstan', 'Kenya', 'Kosovo', 'Kuwait', 'Kyrgyzstan', 'Laos', 'Latvia', 'Lebanon', 'Liberia', 'Liechtenstein', 'Lithuania', 'Luxembourg', 'Macao', 'Macedonia', 'Madagascar', 'Malaysia', 'Malta', 'Martinique', 'Mexico', 'Moldova', 'Monaco', 'Mongolia', 'Montenegro', 'Myanmar', 'Nepal', 'Netherlands', 'New Caledonia', 'New Zealand', 'Nigeria', 'Norway', 'Pakistan', 'Palestinian Territory', 'Peru', 'Philippines', 'Poland', 'Portugal', 'Puerto Rico', 'Qatar', 'Reunion', 'Romania', 'Russia', 'San Marino', 'Saudi Arabia', 'Senegal', 'Serbia', 'Singapore', 'Slovakia', 'Slovenia', 'South Africa', 'South Korea', 'Spain', 'Sri Lanka', 'Sudan', 'Sweden', 'Switzerland', 'Taiwan', 'Tajikistan', 'Thailand', 'Togo', 'Trinidad and Tobago', 'Turkey', 'Turkmenistan', 'Uganda', 'Ukraine', 'United Arab Emirates', 'United Kingdom of Great Britain and Northern Ireland', 'United States of America', 'Uzbekistan', 'Vatican', 'Venezuela', 'Vietnam', 'Zambia']\n",
      "\n",
      "\n",
      "Zambia no data -\n",
      "\n",
      "\n",
      "Albania Good 15\n",
      "Algeria no data -\n",
      "Andorra Good 17\n",
      "Angola no data -\n",
      "Argentina Good 26\n",
      "Armenia Good 38\n",
      "Australia Good 46\n",
      "Austria Good 41\n",
      "Azerbaijan Good 18\n",
      "Bahrain no data -\n",
      "Bangladesh Moderate 100\n",
      "Belarus Good 38\n",
      "Belgium Good 30\n",
      "Belize no data -\n",
      "Bermuda no data -\n",
      "Bolivia no data -\n",
      "Bosnia and Herzegovina Good 41\n",
      "Brazil Moderate 96\n",
      "Brunei Good 11\n",
      "Bulgaria Good 43\n",
      "Burkina Faso no data -\n",
      "Cambodia Good 42\n",
      "Canada Unhealthyfor Sensitive Groups 106\n",
      "Cape Verde Moderate 57\n",
      "Cayman Islands no data -\n",
      "Central African Republic no data -\n",
      "Chad no data -\n",
      "Chile Moderate 84\n",
      "China Unhealthy 157\n",
      "Colombia Good 49\n",
      "Costa Rica Good 26\n",
      "Croatia Moderate 51\n",
      "Cyprus Good 46\n",
      "Czech Republic Moderate 62\n",
      "Denmark Good 22\n",
      "Dominican Republic Moderate 67\n",
      "Ecuador Good 40\n",
      "Egypt no data -\n",
      "El Salvador no data -\n",
      "Estonia Good 27\n",
      "Ethiopia Moderate 87\n",
      "Finland Good 45\n",
      "France Good 40\n",
      "French Guiana Good 17\n",
      "Gabon no data -\n",
      "Gambia Good 37\n",
      "Georgia Good 33\n",
      "Germany Moderate 93\n",
      "Ghana Moderate 77\n",
      "Gibraltar Good 28\n",
      "Greece Good 50\n",
      "Grenada no data -\n",
      "Guadeloupe Good 25\n",
      "Guam no data -\n",
      "Guatemala Good 5\n",
      "Honduras Good 18\n",
      "Hong Kong Good 39\n",
      "Hungary Good 46\n",
      "Iceland Good 10\n",
      "India Unhealthy 157\n",
      "Indonesia Unhealthyfor Sensitive Groups 142\n",
      "Iran no data -\n",
      "Iraq no data -\n",
      "Ireland Good 16\n",
      "Israel Moderate 64\n",
      "Italy Moderate 78\n",
      "Ivory Coast no data -\n",
      "Japan Moderate 82\n",
      "Jersey Good 15\n",
      "Jordan Good 17\n",
      "Kazakhstan Good 27\n",
      "Kenya Moderate 56\n",
      "Kosovo Good 38\n",
      "Kuwait no data -\n",
      "Kyrgyzstan Good 8\n",
      "Laos Good 50\n",
      "Latvia Good 5\n",
      "Lebanon no data -\n",
      "Liberia no data -\n",
      "Liechtenstein Good 25\n",
      "Lithuania Good 31\n",
      "Luxembourg Good 15\n",
      "Macao Good 34\n",
      "Macedonia Good 48\n",
      "Madagascar no data -\n",
      "Malaysia Moderate 71\n",
      "Malta Good 27\n",
      "Martinique Good 36\n",
      "Mexico Moderate 88\n",
      "Moldova Good 15\n",
      "Monaco Good 28\n",
      "Mongolia Good 43\n",
      "Montenegro Good 35\n",
      "Myanmar no data -\n",
      "Nepal Moderate 61\n",
      "Netherlands Good 34\n",
      "New Caledonia Good 17\n",
      "New Zealand Good 41\n",
      "Nigeria Good 49\n",
      "Norway Good 38\n",
      "Pakistan Unhealthyfor Sensitive Groups 107\n",
      "Palestinian Territory Moderate 88\n",
      "Peru Moderate 51\n",
      "Philippines Moderate 72\n",
      "Poland Moderate 66\n",
      "Portugal Good 22\n",
      "Puerto Rico no data -\n",
      "Qatar Moderate 80\n",
      "Reunion Good 25\n",
      "Romania Good 46\n",
      "Russia Moderate 76\n",
      "San Marino Moderate 57\n",
      "Saudi Arabia no data -\n",
      "Senegal no data -\n",
      "Serbia Moderate 58\n",
      "Singapore Good 44\n",
      "Slovakia Moderate 53\n",
      "Slovenia Good 47\n",
      "South Africa Moderate 76\n",
      "South Korea Moderate 85\n",
      "Spain Moderate 67\n",
      "Sri Lanka Moderate 89\n",
      "Sudan no data -\n",
      "Sweden Moderate 51\n",
      "Switzerland Good 29\n",
      "Taiwan Good 38\n",
      "Tajikistan Moderate 68\n",
      "Thailand Moderate 65\n",
      "Togo no data -\n",
      "Trinidad and Tobago Good 15\n",
      "Turkey Unhealthyfor Sensitive Groups 103\n",
      "Turkmenistan Moderate 57\n",
      "Uganda no data -\n",
      "Ukraine Good 41\n",
      "United Arab Emirates Unhealthyfor Sensitive Groups 115\n",
      "United Kingdom of Great Britain and Northern Ireland Good 46\n",
      "United States of America Moderate 62\n",
      "Uzbekistan Good 22\n",
      "Vatican Good 38\n",
      "Venezuela no data -\n",
      "Vietnam Good 34\n",
      "Zambia no data -\n"
     ]
    }
   ],
   "source": [
    "## Indexing in the created dictionary\n",
    "\n",
    "print(today_date)\n",
    "print(today_data[\"Country\"])\n",
    "print('\\n')\n",
    "print(today_data[\"Country\"][-1], today_data[\"Status\"][-1], today_data[\"AQI Value\"][-1])\n",
    "print('\\n')\n",
    "\n",
    "for i in range(len(today_data[\"Country\"])):\n",
    "    print(today_data[\"Country\"][i], today_data[\"Status\"][i], today_data[\"AQI Value\"][i])"
   ]
  },
  {
   "cell_type": "code",
   "execution_count": 11,
   "id": "97e7f3e5-f5d1-4276-a45f-0758bee37d48",
   "metadata": {},
   "outputs": [
    {
     "data": {
      "text/html": [
       "<div>\n",
       "<style scoped>\n",
       "    .dataframe tbody tr th:only-of-type {\n",
       "        vertical-align: middle;\n",
       "    }\n",
       "\n",
       "    .dataframe tbody tr th {\n",
       "        vertical-align: top;\n",
       "    }\n",
       "\n",
       "    .dataframe thead th {\n",
       "        text-align: right;\n",
       "    }\n",
       "</style>\n",
       "<table border=\"1\" class=\"dataframe\">\n",
       "  <thead>\n",
       "    <tr style=\"text-align: right;\">\n",
       "      <th></th>\n",
       "      <th>Country</th>\n",
       "      <th>Status</th>\n",
       "      <th>AQI Value</th>\n",
       "    </tr>\n",
       "  </thead>\n",
       "  <tbody>\n",
       "    <tr>\n",
       "      <th>0</th>\n",
       "      <td>Albania</td>\n",
       "      <td>Good</td>\n",
       "      <td>15</td>\n",
       "    </tr>\n",
       "    <tr>\n",
       "      <th>1</th>\n",
       "      <td>Algeria</td>\n",
       "      <td>no data</td>\n",
       "      <td>-</td>\n",
       "    </tr>\n",
       "    <tr>\n",
       "      <th>2</th>\n",
       "      <td>Andorra</td>\n",
       "      <td>Good</td>\n",
       "      <td>17</td>\n",
       "    </tr>\n",
       "    <tr>\n",
       "      <th>3</th>\n",
       "      <td>Angola</td>\n",
       "      <td>no data</td>\n",
       "      <td>-</td>\n",
       "    </tr>\n",
       "    <tr>\n",
       "      <th>4</th>\n",
       "      <td>Argentina</td>\n",
       "      <td>Good</td>\n",
       "      <td>26</td>\n",
       "    </tr>\n",
       "    <tr>\n",
       "      <th>...</th>\n",
       "      <td>...</td>\n",
       "      <td>...</td>\n",
       "      <td>...</td>\n",
       "    </tr>\n",
       "    <tr>\n",
       "      <th>137</th>\n",
       "      <td>Uzbekistan</td>\n",
       "      <td>Good</td>\n",
       "      <td>22</td>\n",
       "    </tr>\n",
       "    <tr>\n",
       "      <th>138</th>\n",
       "      <td>Vatican</td>\n",
       "      <td>Good</td>\n",
       "      <td>38</td>\n",
       "    </tr>\n",
       "    <tr>\n",
       "      <th>139</th>\n",
       "      <td>Venezuela</td>\n",
       "      <td>no data</td>\n",
       "      <td>-</td>\n",
       "    </tr>\n",
       "    <tr>\n",
       "      <th>140</th>\n",
       "      <td>Vietnam</td>\n",
       "      <td>Good</td>\n",
       "      <td>34</td>\n",
       "    </tr>\n",
       "    <tr>\n",
       "      <th>141</th>\n",
       "      <td>Zambia</td>\n",
       "      <td>no data</td>\n",
       "      <td>-</td>\n",
       "    </tr>\n",
       "  </tbody>\n",
       "</table>\n",
       "<p>142 rows × 3 columns</p>\n",
       "</div>"
      ],
      "text/plain": [
       "        Country   Status AQI Value\n",
       "0       Albania     Good        15\n",
       "1       Algeria  no data         -\n",
       "2       Andorra     Good        17\n",
       "3        Angola  no data         -\n",
       "4     Argentina     Good        26\n",
       "..          ...      ...       ...\n",
       "137  Uzbekistan     Good        22\n",
       "138     Vatican     Good        38\n",
       "139   Venezuela  no data         -\n",
       "140     Vietnam     Good        34\n",
       "141      Zambia  no data         -\n",
       "\n",
       "[142 rows x 3 columns]"
      ]
     },
     "execution_count": 11,
     "metadata": {},
     "output_type": "execute_result"
    }
   ],
   "source": [
    "## Create a DataFrame for the AQI values as of today\n",
    "today = pd.DataFrame(today_data)\n",
    "today"
   ]
  },
  {
   "cell_type": "code",
   "execution_count": 12,
   "id": "82c3516d-eeda-4b24-8ccf-47b06d65a43e",
   "metadata": {},
   "outputs": [
    {
     "name": "stdout",
     "output_type": "stream",
     "text": [
      "0         Albania\n",
      "1         Algeria\n",
      "2         Andorra\n",
      "3          Angola\n",
      "4       Argentina\n",
      "          ...    \n",
      "137    Uzbekistan\n",
      "138       Vatican\n",
      "139     Venezuela\n",
      "140       Vietnam\n",
      "141        Zambia\n",
      "Name: Country, Length: 142, dtype: object\n",
      "Vietnam\n"
     ]
    }
   ],
   "source": [
    "## Indexing within a Pandas Dataframe\n",
    "print(today.Country)\n",
    "print(today.Country.iloc[-2]) ## Use iloc for negative indexing on a Pandas Dataframe"
   ]
  },
  {
   "cell_type": "code",
   "execution_count": 13,
   "id": "54f8fb4b-0c75-479b-bacd-33e7b5f9679e",
   "metadata": {},
   "outputs": [
    {
     "name": "stdout",
     "output_type": "stream",
     "text": [
      "['Good' 'no data' 'Moderate' 'Unhealthyfor Sensitive Groups' 'Unhealthy']\n"
     ]
    }
   ],
   "source": [
    "## Get unique values!!\n",
    "print(today['Status'].unique())"
   ]
  },
  {
   "cell_type": "code",
   "execution_count": 14,
   "id": "f269c0dd-6a6c-4993-ad63-6f6d0c75d8a4",
   "metadata": {},
   "outputs": [
    {
     "name": "stdout",
     "output_type": "stream",
     "text": [
      "['Good' 'no data' 'Moderate' 'Unhealthy for Sensitive Groups' 'Unhealthy']\n"
     ]
    }
   ],
   "source": [
    "today.Status = today.Status.str.replace('Unhealthyfor Sensitive Groups','Unhealthy for Sensitive Groups')\n",
    "today.Status = today.Status.str.replace('VeryUnhealthy','Very Unhealthy')\n",
    "print(today['Status'].unique())"
   ]
  },
  {
   "cell_type": "code",
   "execution_count": 15,
   "id": "b71db313-d841-439c-b5ea-f65efd21a100",
   "metadata": {},
   "outputs": [
    {
     "name": "stdout",
     "output_type": "stream",
     "text": [
      "['15' '-' '17' '26' '38' '46' '41' '18' '100' '30' '96' '11' '43' '42'\n",
      " '106' '57' '84' '157' '49' '51' '62' '22' '67' '40' '27' '87' '45' '37'\n",
      " '33' '93' '77' '28' '50' '25' '5' '39' '10' '142' '16' '64' '78' '82'\n",
      " '56' '8' '31' '34' '48' '71' '36' '88' '35' '61' '107' '72' '66' '80'\n",
      " '76' '58' '44' '53' '47' '85' '89' '29' '68' '65' '103' '115']\n"
     ]
    }
   ],
   "source": [
    "print(today['AQI Value'].unique())"
   ]
  },
  {
   "cell_type": "code",
   "execution_count": 16,
   "id": "bda5f034-e7f1-4e05-bed4-e701ff80c385",
   "metadata": {},
   "outputs": [
    {
     "name": "stdout",
     "output_type": "stream",
     "text": [
      "['15' '0' '17' '26' '38' '46' '41' '18' '100' '30' '96' '11' '43' '42'\n",
      " '106' '57' '84' '157' '49' '51' '62' '22' '67' '40' '27' '87' '45' '37'\n",
      " '33' '93' '77' '28' '50' '25' '5' '39' '10' '142' '16' '64' '78' '82'\n",
      " '56' '8' '31' '34' '48' '71' '36' '88' '35' '61' '107' '72' '66' '80'\n",
      " '76' '58' '44' '53' '47' '85' '89' '29' '68' '65' '103' '115']\n"
     ]
    }
   ],
   "source": [
    "# Replacing the dash with a number\n",
    "today[\"AQI Value\"] = today[\"AQI Value\"].str.replace('-','0')\n",
    "print(today['AQI Value'].unique())"
   ]
  },
  {
   "cell_type": "code",
   "execution_count": 17,
   "id": "8eb17210-1230-48b6-acd4-1ad7d68b6803",
   "metadata": {},
   "outputs": [
    {
     "name": "stdout",
     "output_type": "stream",
     "text": [
      "['Good' 'Moderate' 'Unhealthy for Sensitive Groups' 'Unhealthy']\n",
      "111\n"
     ]
    }
   ],
   "source": [
    "## Drop the records where there is no data\n",
    "today = today.drop(today[today.Status == 'no data'].index)\n",
    "print(today['Status'].unique())\n",
    "print(len(today))"
   ]
  },
  {
   "cell_type": "code",
   "execution_count": 18,
   "id": "995090fd-db65-4c95-8ae3-8505ada06437",
   "metadata": {},
   "outputs": [],
   "source": [
    "## Since we just dropped records from the table, resetting the index for clarity of organization\n",
    "today = today.reset_index()"
   ]
  },
  {
   "cell_type": "code",
   "execution_count": 19,
   "id": "f2da4048-7165-498e-a96d-2b9c2092c774",
   "metadata": {},
   "outputs": [
    {
     "name": "stdout",
     "output_type": "stream",
     "text": [
      "2025-09-09\n",
      "['2025-09-09', '2025-09-09', '2025-09-09', '2025-09-09', '2025-09-09', '2025-09-09', '2025-09-09', '2025-09-09', '2025-09-09', '2025-09-09', '2025-09-09', '2025-09-09', '2025-09-09', '2025-09-09', '2025-09-09', '2025-09-09', '2025-09-09', '2025-09-09', '2025-09-09', '2025-09-09', '2025-09-09', '2025-09-09', '2025-09-09', '2025-09-09', '2025-09-09', '2025-09-09', '2025-09-09', '2025-09-09', '2025-09-09', '2025-09-09', '2025-09-09', '2025-09-09', '2025-09-09', '2025-09-09', '2025-09-09', '2025-09-09', '2025-09-09', '2025-09-09', '2025-09-09', '2025-09-09', '2025-09-09', '2025-09-09', '2025-09-09', '2025-09-09', '2025-09-09', '2025-09-09', '2025-09-09', '2025-09-09', '2025-09-09', '2025-09-09', '2025-09-09', '2025-09-09', '2025-09-09', '2025-09-09', '2025-09-09', '2025-09-09', '2025-09-09', '2025-09-09', '2025-09-09', '2025-09-09', '2025-09-09', '2025-09-09', '2025-09-09', '2025-09-09', '2025-09-09', '2025-09-09', '2025-09-09', '2025-09-09', '2025-09-09', '2025-09-09', '2025-09-09', '2025-09-09', '2025-09-09', '2025-09-09', '2025-09-09', '2025-09-09', '2025-09-09', '2025-09-09', '2025-09-09', '2025-09-09', '2025-09-09', '2025-09-09', '2025-09-09', '2025-09-09', '2025-09-09', '2025-09-09', '2025-09-09', '2025-09-09', '2025-09-09', '2025-09-09', '2025-09-09', '2025-09-09', '2025-09-09', '2025-09-09', '2025-09-09', '2025-09-09', '2025-09-09', '2025-09-09', '2025-09-09', '2025-09-09', '2025-09-09', '2025-09-09', '2025-09-09', '2025-09-09', '2025-09-09', '2025-09-09', '2025-09-09', '2025-09-09', '2025-09-09', '2025-09-09', '2025-09-09']\n"
     ]
    }
   ],
   "source": [
    "## Create a list, today_list, that consists of today's date as the value in each row\n",
    "print(today_date)\n",
    "\n",
    "today_list = [today_date for i in range(len(today))]\n",
    "\n",
    "print(today_list)"
   ]
  },
  {
   "cell_type": "code",
   "execution_count": 20,
   "id": "50dfd3da-a950-4d35-8b22-a7700a059719",
   "metadata": {},
   "outputs": [
    {
     "name": "stdout",
     "output_type": "stream",
     "text": [
      "         Date    Country Status AQI Value\n",
      "0  2025-09-09    Albania   Good        15\n",
      "1  2025-09-09    Andorra   Good        17\n",
      "2  2025-09-09  Argentina   Good        26\n",
      "3  2025-09-09    Armenia   Good        38\n",
      "4  2025-09-09  Australia   Good        46\n"
     ]
    }
   ],
   "source": [
    "## In SQL terms: Insert the created column today_list as first column in a new table called data_date_today\n",
    "\n",
    "data_date_today = pd.DataFrame({\"Date\":today_list,\n",
    "                              \"Country\":today[\"Country\"],\n",
    "                              \"Status\":today.Status,\n",
    "                              \"AQI Value\":today[\"AQI Value\"]\n",
    "                        })\n",
    "\n",
    "print(data_date_today.head())"
   ]
  },
  {
   "cell_type": "code",
   "execution_count": 33,
   "id": "1d167504-4c41-4474-a3d9-f068ee5a97dd",
   "metadata": {},
   "outputs": [
    {
     "name": "stdout",
     "output_type": "stream",
     "text": [
      "(20968, 4)\n",
      "(111, 4)\n"
     ]
    }
   ],
   "source": [
    "print(data_date.shape)\n",
    "print(data_date_today.shape)"
   ]
  },
  {
   "cell_type": "code",
   "execution_count": 35,
   "id": "1b19ea41-edc9-4306-922d-4adbd8a84003",
   "metadata": {},
   "outputs": [
    {
     "name": "stdout",
     "output_type": "stream",
     "text": [
      "part 2 done\n",
      "done\n"
     ]
    }
   ],
   "source": [
    "# Date\n",
    "data_date = pd.read_csv('data/sandbox_data/data_date_aqi.csv')\n",
    "#data_date = data_date.append(data_date_today) ## df.append() has been deprecated and discontinued :(\n",
    "#df = pd.concat([df, pd.DataFrame([new_row])], ignore_index=True)\n",
    "data_date = pd.concat([data_date, data_date_today], ignore_index=True)\n",
    "print(\"part 2 done\")\n",
    "data_date.to_csv('data/sandbox_data/data_date_final.csv',index=False)\n",
    "print(\"done\")"
   ]
  },
  {
   "cell_type": "code",
   "execution_count": 22,
   "id": "2fb3c482-f769-4c89-8c32-91a8c6c44131",
   "metadata": {},
   "outputs": [],
   "source": [
    "gdf = gpd.read_file(\n",
    "    \"https://d2ad6b4ur7yvpq.cloudfront.net/naturalearth-3.3.0/ne_50m_admin_0_countries.geojson\"\n",
    ")\n"
   ]
  }
 ],
 "metadata": {
  "kernelspec": {
   "display_name": "Python 3 (ipykernel)",
   "language": "python",
   "name": "python3"
  },
  "language_info": {
   "codemirror_mode": {
    "name": "ipython",
    "version": 3
   },
   "file_extension": ".py",
   "mimetype": "text/x-python",
   "name": "python",
   "nbconvert_exporter": "python",
   "pygments_lexer": "ipython3",
   "version": "3.13.5"
  }
 },
 "nbformat": 4,
 "nbformat_minor": 5
}
