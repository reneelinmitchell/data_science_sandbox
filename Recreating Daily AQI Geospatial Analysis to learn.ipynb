{
 "cells": [
  {
   "cell_type": "markdown",
   "id": "a3d5a813-266b-4fe4-a261-0df3d2f69ad5",
   "metadata": {},
   "source": [
    "## Recreating a notebook to learn: Daily AQI Geospatial Analysis\n",
    "\n",
    "Link to the original notebook: https://www.kaggle.com/code/azminetoushikwasi/daily-aqi-geospatial-analysis\n",
    "\n",
    "This is about Air Quality Index (AQI), which describes the degree of pollution in the air\n",
    "\n",
    "The original notebook has a nice graphic but I'll just practice using Markdown to import a picture:\n",
    "\n",
    "![Cat in a strawberry hat](img/Wicked_Background_Final.png)"
   ]
  },
  {
   "cell_type": "markdown",
   "id": "054e9760-7e34-478b-9fec-5c93123bf401",
   "metadata": {},
   "source": [
    "AQIs:\n",
    "\n",
    "- 0 - 50 : Good\n",
    "- 51 - 100: Satisfactory\n",
    "- 101 - 200: Moderate\n",
    "- 201 - 300: Poor\n",
    "- 301 - 400: Very Poor\n",
    "- 401 - 500: Severe"
   ]
  },
  {
   "cell_type": "code",
   "execution_count": 3,
   "id": "bf0973f4-5d19-4a8d-a3eb-2c4c6e3007ef",
   "metadata": {},
   "outputs": [],
   "source": [
    "import numpy as np # linear algebra\n",
    "import pandas as pd # data processing, CSV file I/O (e.g. pd.read_csv)\n",
    "import numpy as np \n",
    "import pandas as pd \n",
    "import os # provides a portable way of using operating system dependent functionality\n",
    "import seaborn as sns\n",
    "import matplotlib.pyplot as plt\n",
    "from scipy import stats\n",
    "import warnings\n",
    "import json\n",
    "\n",
    "from bs4 import BeautifulSoup as BeautifulSoup\n",
    "import pandas as pd\n",
    "from urllib.request import Request, urlopen\n",
    "import re\n",
    "import time\n",
    "import random\n",
    "from datetime import datetime\n",
    "import warnings\n",
    "warnings.filterwarnings('ignore')\n",
    "from bokeh.io import output_notebook, show, output_file\n",
    "from bokeh.plotting import figure\n",
    "from bokeh.models import GeoJSONDataSource, LinearColorMapper, ColorBar\n",
    "from bokeh.palettes import brewer,all_palettes\n",
    "import geopandas as gpd\n",
    "import plotly.express as px"
   ]
  }
 ],
 "metadata": {
  "kernelspec": {
   "display_name": "Python 3 (ipykernel)",
   "language": "python",
   "name": "python3"
  },
  "language_info": {
   "codemirror_mode": {
    "name": "ipython",
    "version": 3
   },
   "file_extension": ".py",
   "mimetype": "text/x-python",
   "name": "python",
   "nbconvert_exporter": "python",
   "pygments_lexer": "ipython3",
   "version": "3.13.5"
  }
 },
 "nbformat": 4,
 "nbformat_minor": 5
}
