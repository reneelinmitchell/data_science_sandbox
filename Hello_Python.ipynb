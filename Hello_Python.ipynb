{
 "cells": [
  {
   "cell_type": "markdown",
   "id": "382940f7-9d64-4ca0-90a6-65d9e89ae068",
   "metadata": {},
   "source": [
    "# Hello, Python: Kaggle"
   ]
  },
  {
   "cell_type": "markdown",
   "id": "ee62bf84-f0e7-42cc-b1c7-05c94085d8d3",
   "metadata": {},
   "source": [
    "4 Sept 2025: This serves as a refresher for me, it's just been a while since I worked with Python. I glossed over the portions of the course I still fully understand / remember and focused on the parts I'm rusty with.\n",
    "\n",
    "Tutorial: https://www.kaggle.com/code/colinmorris/hello-python"
   ]
  },
  {
   "cell_type": "markdown",
   "id": "4f0001de-f7ee-4896-a34b-777b416d848e",
   "metadata": {},
   "source": [
    "## Hello, Python"
   ]
  },
  {
   "cell_type": "code",
   "execution_count": 4,
   "id": "aa4df7f5-4f94-44fd-b060-4a1275c5933c",
   "metadata": {},
   "outputs": [
    {
     "name": "stdout",
     "output_type": "stream",
     "text": [
      "SpamSpamSpamSpam\n"
     ]
    }
   ],
   "source": [
    "## apparently this is known as \"operator overloading\"\n",
    "spam_amount = 4\n",
    "viking_song = \"Spam\" * spam_amount\n",
    "print(viking_song)"
   ]
  },
  {
   "cell_type": "code",
   "execution_count": 9,
   "id": "c7d79944-3785-46fb-9a35-fd9f3731c032",
   "metadata": {},
   "outputs": [
    {
     "data": {
      "text/plain": [
       "int"
      ]
     },
     "execution_count": 9,
     "metadata": {},
     "output_type": "execute_result"
    }
   ],
   "source": [
    "type(spam_amount)\n",
    "# type(viking_song) # reminder to self that in situations like this, only the latter statement prints"
   ]
  },
  {
   "cell_type": "code",
   "execution_count": 7,
   "id": "af809889-7953-40c8-8ff9-3c77c387c668",
   "metadata": {},
   "outputs": [
    {
     "data": {
      "text/plain": [
       "str"
      ]
     },
     "execution_count": 7,
     "metadata": {},
     "output_type": "execute_result"
    }
   ],
   "source": [
    "type(viking_song)"
   ]
  },
  {
   "cell_type": "code",
   "execution_count": 11,
   "id": "be6c16de-4aab-46fb-8db0-0545fb864cc7",
   "metadata": {},
   "outputs": [
    {
     "name": "stdout",
     "output_type": "stream",
     "text": [
      "2.5\n",
      "3.0\n"
     ]
    }
   ],
   "source": [
    "print(5 / 2)\n",
    "print(6 / 2)\n",
    "\n",
    "# interesting - why is it that both print statements show here but invoking type twice only returns the later statement? RM"
   ]
  },
  {
   "cell_type": "code",
   "execution_count": 12,
   "id": "0366640d-5726-4bae-a7b4-dae56e7e51eb",
   "metadata": {},
   "outputs": [
    {
     "name": "stdout",
     "output_type": "stream",
     "text": [
      "2\n",
      "3\n"
     ]
    }
   ],
   "source": [
    "print (5 // 2) # the // operator gives a result that's rounded down to the next integer, unlike the / operator that returns a float\n",
    "print(6 // 2)"
   ]
  },
  {
   "cell_type": "code",
   "execution_count": 19,
   "id": "af09e696-a162-45d5-b3f3-0fbb05513f9b",
   "metadata": {},
   "outputs": [
    {
     "name": "stdout",
     "output_type": "stream",
     "text": [
      "Number of songs in my 2025 Spotify playlist = 101\n",
      "How in the world do I only have 101 songs in my Spotify playlist by September??\n",
      "How in the world do I only have 101 songs in my Spotify playlist by September??\n"
     ]
    }
   ],
   "source": [
    " # I forgot how interesting print statements can be in Python hehe\n",
    "\n",
    "num_songs = 101\n",
    "print(\"Number of songs in my 2025 Spotify playlist =\", num_songs)\n",
    "print(\"How in the world do I only have\", num_songs, \"songs in my 2025 Spotify playlist by September??\") \n",
    "# note the space auto-added before num_songs is printed\n",
    "\n",
    "print(\"How in the world do I only have \" + str(num_songs) + \" songs in my 2025 Spotify playlist by September??\") # the classic option"
   ]
  },
  {
   "cell_type": "code",
   "execution_count": 20,
   "id": "c43f24ef-bec7-4928-ba2c-161ac806da5c",
   "metadata": {},
   "outputs": [
    {
     "name": "stdout",
     "output_type": "stream",
     "text": [
      "🙏☕🐟📖\n"
     ]
    }
   ],
   "source": [
    "# can I print emojis??\n",
    "\n",
    "print(\"🙏☕🐟📖\")"
   ]
  },
  {
   "cell_type": "code",
   "execution_count": 21,
   "id": "3083b1be-e90d-4338-944e-9cf451c890f4",
   "metadata": {},
   "outputs": [
    {
     "name": "stdout",
     "output_type": "stream",
     "text": [
      "1\n",
      "3\n"
     ]
    }
   ],
   "source": [
    "print(min(1, 2, 3))\n",
    "print(max(1, 2, 3))"
   ]
  },
  {
   "cell_type": "code",
   "execution_count": 23,
   "id": "6d5be3af-f66c-4470-99f5-337d5de19834",
   "metadata": {},
   "outputs": [
    {
     "data": {
      "text/plain": [
       "59"
      ]
     },
     "execution_count": 23,
     "metadata": {},
     "output_type": "execute_result"
    }
   ],
   "source": [
    "int('807')\n",
    "int('59')"
   ]
  },
  {
   "cell_type": "markdown",
   "id": "867f04c7-681c-4771-a4ae-da7121dd2b01",
   "metadata": {},
   "source": [
    "## Functions and Getting Help"
   ]
  },
  {
   "cell_type": "code",
   "execution_count": 25,
   "id": "c9bc714d-58a5-4f20-9b07-65a6e0f3c4ed",
   "metadata": {},
   "outputs": [
    {
     "name": "stdout",
     "output_type": "stream",
     "text": [
      "Help on built-in function round in module builtins:\n",
      "\n",
      "round(number, ndigits=None)\n",
      "    Round a number to a given precision in decimal digits.\n",
      "\n",
      "    The return value is an integer if ndigits is omitted or None.  Otherwise\n",
      "    the return value has the same type as the number.  ndigits may be negative.\n",
      "\n"
     ]
    }
   ],
   "source": [
    "help(round)"
   ]
  },
  {
   "cell_type": "code",
   "execution_count": 27,
   "id": "a73e4554-73fb-4fa4-8285-9d85da914f86",
   "metadata": {},
   "outputs": [
    {
     "name": "stdout",
     "output_type": "stream",
     "text": [
      "Help on int object:\n",
      "\n",
      "class int(object)\n",
      " |  int([x]) -> integer\n",
      " |  int(x, base=10) -> integer\n",
      " |\n",
      " |  Convert a number or string to an integer, or return 0 if no arguments\n",
      " |  are given.  If x is a number, return x.__int__().  For floating-point\n",
      " |  numbers, this truncates towards zero.\n",
      " |\n",
      " |  If x is not a number or if base is given, then x must be a string,\n",
      " |  bytes, or bytearray instance representing an integer literal in the\n",
      " |  given base.  The literal can be preceded by '+' or '-' and be surrounded\n",
      " |  by whitespace.  The base defaults to 10.  Valid bases are 0 and 2-36.\n",
      " |  Base 0 means to interpret the base from the string as an integer literal.\n",
      " |  >>> int('0b100', base=0)\n",
      " |  4\n",
      " |\n",
      " |  Built-in subclasses:\n",
      " |      bool\n",
      " |\n",
      " |  Methods defined here:\n",
      " |\n",
      " |  __abs__(self, /)\n",
      " |      abs(self)\n",
      " |\n",
      " |  __add__(self, value, /)\n",
      " |      Return self+value.\n",
      " |\n",
      " |  __and__(self, value, /)\n",
      " |      Return self&value.\n",
      " |\n",
      " |  __bool__(self, /)\n",
      " |      True if self else False\n",
      " |\n",
      " |  __ceil__(self, /)\n",
      " |      Ceiling of an Integral returns itself.\n",
      " |\n",
      " |  __divmod__(self, value, /)\n",
      " |      Return divmod(self, value).\n",
      " |\n",
      " |  __eq__(self, value, /)\n",
      " |      Return self==value.\n",
      " |\n",
      " |  __float__(self, /)\n",
      " |      float(self)\n",
      " |\n",
      " |  __floor__(self, /)\n",
      " |      Flooring an Integral returns itself.\n",
      " |\n",
      " |  __floordiv__(self, value, /)\n",
      " |      Return self//value.\n",
      " |\n",
      " |  __format__(self, format_spec, /)\n",
      " |      Convert to a string according to format_spec.\n",
      " |\n",
      " |  __ge__(self, value, /)\n",
      " |      Return self>=value.\n",
      " |\n",
      " |  __getattribute__(self, name, /)\n",
      " |      Return getattr(self, name).\n",
      " |\n",
      " |  __getnewargs__(self, /)\n",
      " |\n",
      " |  __gt__(self, value, /)\n",
      " |      Return self>value.\n",
      " |\n",
      " |  __hash__(self, /)\n",
      " |      Return hash(self).\n",
      " |\n",
      " |  __index__(self, /)\n",
      " |      Return self converted to an integer, if self is suitable for use as an index into a list.\n",
      " |\n",
      " |  __int__(self, /)\n",
      " |      int(self)\n",
      " |\n",
      " |  __invert__(self, /)\n",
      " |      ~self\n",
      " |\n",
      " |  __le__(self, value, /)\n",
      " |      Return self<=value.\n",
      " |\n",
      " |  __lshift__(self, value, /)\n",
      " |      Return self<<value.\n",
      " |\n",
      " |  __lt__(self, value, /)\n",
      " |      Return self<value.\n",
      " |\n",
      " |  __mod__(self, value, /)\n",
      " |      Return self%value.\n",
      " |\n",
      " |  __mul__(self, value, /)\n",
      " |      Return self*value.\n",
      " |\n",
      " |  __ne__(self, value, /)\n",
      " |      Return self!=value.\n",
      " |\n",
      " |  __neg__(self, /)\n",
      " |      -self\n",
      " |\n",
      " |  __or__(self, value, /)\n",
      " |      Return self|value.\n",
      " |\n",
      " |  __pos__(self, /)\n",
      " |      +self\n",
      " |\n",
      " |  __pow__(self, value, mod=None, /)\n",
      " |      Return pow(self, value, mod).\n",
      " |\n",
      " |  __radd__(self, value, /)\n",
      " |      Return value+self.\n",
      " |\n",
      " |  __rand__(self, value, /)\n",
      " |      Return value&self.\n",
      " |\n",
      " |  __rdivmod__(self, value, /)\n",
      " |      Return divmod(value, self).\n",
      " |\n",
      " |  __repr__(self, /)\n",
      " |      Return repr(self).\n",
      " |\n",
      " |  __rfloordiv__(self, value, /)\n",
      " |      Return value//self.\n",
      " |\n",
      " |  __rlshift__(self, value, /)\n",
      " |      Return value<<self.\n",
      " |\n",
      " |  __rmod__(self, value, /)\n",
      " |      Return value%self.\n",
      " |\n",
      " |  __rmul__(self, value, /)\n",
      " |      Return value*self.\n",
      " |\n",
      " |  __ror__(self, value, /)\n",
      " |      Return value|self.\n",
      " |\n",
      " |  __round__(self, ndigits=<unrepresentable>, /)\n",
      " |      Rounding an Integral returns itself.\n",
      " |\n",
      " |      Rounding with an ndigits argument also returns an integer.\n",
      " |\n",
      " |  __rpow__(self, value, mod=None, /)\n",
      " |      Return pow(value, self, mod).\n",
      " |\n",
      " |  __rrshift__(self, value, /)\n",
      " |      Return value>>self.\n",
      " |\n",
      " |  __rshift__(self, value, /)\n",
      " |      Return self>>value.\n",
      " |\n",
      " |  __rsub__(self, value, /)\n",
      " |      Return value-self.\n",
      " |\n",
      " |  __rtruediv__(self, value, /)\n",
      " |      Return value/self.\n",
      " |\n",
      " |  __rxor__(self, value, /)\n",
      " |      Return value^self.\n",
      " |\n",
      " |  __sizeof__(self, /)\n",
      " |      Returns size in memory, in bytes.\n",
      " |\n",
      " |  __sub__(self, value, /)\n",
      " |      Return self-value.\n",
      " |\n",
      " |  __truediv__(self, value, /)\n",
      " |      Return self/value.\n",
      " |\n",
      " |  __trunc__(self, /)\n",
      " |      Truncating an Integral returns itself.\n",
      " |\n",
      " |  __xor__(self, value, /)\n",
      " |      Return self^value.\n",
      " |\n",
      " |  as_integer_ratio(self, /)\n",
      " |      Return a pair of integers, whose ratio is equal to the original int.\n",
      " |\n",
      " |      The ratio is in lowest terms and has a positive denominator.\n",
      " |\n",
      " |      >>> (10).as_integer_ratio()\n",
      " |      (10, 1)\n",
      " |      >>> (-10).as_integer_ratio()\n",
      " |      (-10, 1)\n",
      " |      >>> (0).as_integer_ratio()\n",
      " |      (0, 1)\n",
      " |\n",
      " |  bit_count(self, /)\n",
      " |      Number of ones in the binary representation of the absolute value of self.\n",
      " |\n",
      " |      Also known as the population count.\n",
      " |\n",
      " |      >>> bin(13)\n",
      " |      '0b1101'\n",
      " |      >>> (13).bit_count()\n",
      " |      3\n",
      " |\n",
      " |  bit_length(self, /)\n",
      " |      Number of bits necessary to represent self in binary.\n",
      " |\n",
      " |      >>> bin(37)\n",
      " |      '0b100101'\n",
      " |      >>> (37).bit_length()\n",
      " |      6\n",
      " |\n",
      " |  conjugate(self, /)\n",
      " |      Returns self, the complex conjugate of any int.\n",
      " |\n",
      " |  is_integer(self, /)\n",
      " |      Returns True. Exists for duck type compatibility with float.is_integer.\n",
      " |\n",
      " |  to_bytes(self, /, length=1, byteorder='big', *, signed=False)\n",
      " |      Return an array of bytes representing an integer.\n",
      " |\n",
      " |      length\n",
      " |        Length of bytes object to use.  An OverflowError is raised if the\n",
      " |        integer is not representable with the given number of bytes.  Default\n",
      " |        is length 1.\n",
      " |      byteorder\n",
      " |        The byte order used to represent the integer.  If byteorder is 'big',\n",
      " |        the most significant byte is at the beginning of the byte array.  If\n",
      " |        byteorder is 'little', the most significant byte is at the end of the\n",
      " |        byte array.  To request the native byte order of the host system, use\n",
      " |        sys.byteorder as the byte order value.  Default is to use 'big'.\n",
      " |      signed\n",
      " |        Determines whether two's complement is used to represent the integer.\n",
      " |        If signed is False and a negative integer is given, an OverflowError\n",
      " |        is raised.\n",
      " |\n",
      " |  ----------------------------------------------------------------------\n",
      " |  Class methods defined here:\n",
      " |\n",
      " |  from_bytes(bytes, byteorder='big', *, signed=False)\n",
      " |      Return the integer represented by the given array of bytes.\n",
      " |\n",
      " |      bytes\n",
      " |        Holds the array of bytes to convert.  The argument must either\n",
      " |        support the buffer protocol or be an iterable object producing bytes.\n",
      " |        Bytes and bytearray are examples of built-in objects that support the\n",
      " |        buffer protocol.\n",
      " |      byteorder\n",
      " |        The byte order used to represent the integer.  If byteorder is 'big',\n",
      " |        the most significant byte is at the beginning of the byte array.  If\n",
      " |        byteorder is 'little', the most significant byte is at the end of the\n",
      " |        byte array.  To request the native byte order of the host system, use\n",
      " |        sys.byteorder as the byte order value.  Default is to use 'big'.\n",
      " |      signed\n",
      " |        Indicates whether two's complement is used to represent the integer.\n",
      " |\n",
      " |  ----------------------------------------------------------------------\n",
      " |  Static methods defined here:\n",
      " |\n",
      " |  __new__(*args, **kwargs)\n",
      " |      Create and return a new object.  See help(type) for accurate signature.\n",
      " |\n",
      " |  ----------------------------------------------------------------------\n",
      " |  Data descriptors defined here:\n",
      " |\n",
      " |  denominator\n",
      " |      the denominator of a rational number in lowest terms\n",
      " |\n",
      " |  imag\n",
      " |      the imaginary part of a complex number\n",
      " |\n",
      " |  numerator\n",
      " |      the numerator of a rational number in lowest terms\n",
      " |\n",
      " |  real\n",
      " |      the real part of a complex number\n",
      "\n"
     ]
    }
   ],
   "source": [
    "# Python evaluates an expression like this from the inside out\n",
    "# First it calculates the value of round(-2.01), then it provides help on the output of that expression.\n",
    "help(round(-2.01))"
   ]
  },
  {
   "cell_type": "code",
   "execution_count": 30,
   "id": "0224313d-4044-424f-b4c3-23d8d867d655",
   "metadata": {},
   "outputs": [
    {
     "name": "stdout",
     "output_type": "stream",
     "text": [
      "9 0 1\n"
     ]
    }
   ],
   "source": [
    "## defining functions\n",
    "\n",
    "def least_difference(a, b, c):\n",
    "    diff1 = abs(a - b)\n",
    "    diff2 = abs(b - c)\n",
    "    diff3 = abs(a - c)\n",
    "    return min(diff1, diff2, diff3)\n",
    "\n",
    "print(\n",
    "    least_difference(1, 10, 100),\n",
    "    least_difference(1, 10, 10),\n",
    "    least_difference(5, 6, 7)\n",
    ")"
   ]
  },
  {
   "cell_type": "code",
   "execution_count": 33,
   "id": "af1c756c-57e0-40ce-84d6-e4fabc07f878",
   "metadata": {},
   "outputs": [],
   "source": [
    "## To provide a description that will return when calling help on this function - help(least_difference) - write up a docstring!\n",
    "## Docstring is a triple-quoted string, can span multiple lines, comes immediately after the header of a function\n",
    "\n",
    "def least_difference(a, b, c):\n",
    "    # my first docstring ever is below\n",
    "    \"\"\"Return the smallest difference between any two numbers among a, b, and c.\n",
    "\n",
    "    >>> least_difference(1, 5, -5)\n",
    "    4\n",
    "    \"\"\"\n",
    "    \n",
    "    diff1 = abs(a - b)\n",
    "    diff2 = abs(b - c)\n",
    "    diff3 = abs(a - c)\n",
    "    return min(diff1, diff2, diff3)"
   ]
  },
  {
   "cell_type": "code",
   "execution_count": 32,
   "id": "30edefb3-09dd-4720-9fc8-c9f0581de035",
   "metadata": {},
   "outputs": [
    {
     "name": "stdout",
     "output_type": "stream",
     "text": [
      "Help on function least_difference in module __main__:\n",
      "\n",
      "least_difference(a, b, c)\n",
      "    Return the smallest difference between any two numbers among a, b, and c.\n",
      "\n",
      "    >>> least_difference(1, 5, -5)\n",
      "    4\n",
      "\n"
     ]
    }
   ],
   "source": [
    "help(least_difference)"
   ]
  },
  {
   "cell_type": "code",
   "execution_count": 36,
   "id": "1b9c70ad-94a0-4e83-ae48-96374d0e6b69",
   "metadata": {},
   "outputs": [
    {
     "name": "stdout",
     "output_type": "stream",
     "text": [
      "1 < 2 < 3\n"
     ]
    }
   ],
   "source": [
    "## Using a separator (sep)\n",
    "\n",
    "print(1, 2, 3, sep = ' < ')"
   ]
  },
  {
   "cell_type": "code",
   "execution_count": 35,
   "id": "a5927f66-d4b4-431c-af9c-6c7664e2a6a2",
   "metadata": {},
   "outputs": [
    {
     "name": "stdout",
     "output_type": "stream",
     "text": [
      "1 2 3\n"
     ]
    }
   ],
   "source": [
    "## Without specifying a value, sep is treated as having a default value of ' ' (a single space)\n",
    "\n",
    "print(1, 2, 3)"
   ]
  },
  {
   "cell_type": "code",
   "execution_count": 39,
   "id": "b03dd434-bf7f-451a-ac47-4aa0cb56b215",
   "metadata": {},
   "outputs": [
    {
     "name": "stdout",
     "output_type": "stream",
     "text": [
      "Hello, Valued Customer\n",
      "Hello, Elastigirl\n",
      "Hello, Mr. Incredible\n"
     ]
    }
   ],
   "source": [
    "## Functions with default values\n",
    "\n",
    "def greet(cust_name = \"Valued Customer\"):\n",
    "    print(\"Hello,\", cust_name)\n",
    "\n",
    "greet() # will call default value as defined in the function\n",
    "greet(cust_name = \"Elastigirl\")\n",
    "greet(\"Mr. Incredible\")"
   ]
  },
  {
   "cell_type": "code",
   "execution_count": 41,
   "id": "6ecf196d-75bc-4a28-8276-1a712beac91a",
   "metadata": {},
   "outputs": [
    {
     "name": "stdout",
     "output_type": "stream",
     "text": [
      "15\n"
     ]
    }
   ],
   "source": [
    "## Supplying functions as arguments to other functions\n",
    "\n",
    "def mult_by_five(x):\n",
    "    return (5 * x)\n",
    "\n",
    "def call(func_1, arg):\n",
    "    \"\"\"Call function func_1 on the argument arg\"\"\"\n",
    "    return func_1(arg)\n",
    "\n",
    "print(call(mult_by_five, 3))"
   ]
  },
  {
   "cell_type": "code",
   "execution_count": 42,
   "id": "f7dc87c4-f4fc-4141-a44c-2485d2f513db",
   "metadata": {},
   "outputs": [
    {
     "name": "stdout",
     "output_type": "stream",
     "text": [
      "Help on function call in module __main__:\n",
      "\n",
      "call(func_1, arg)\n",
      "    Call function func_1 on the argument arg\n",
      "\n"
     ]
    }
   ],
   "source": [
    "help(call)"
   ]
  },
  {
   "cell_type": "code",
   "execution_count": 43,
   "id": "099ab8fa-87f6-461d-8b62-fe5945705f84",
   "metadata": {},
   "outputs": [
    {
     "name": "stdout",
     "output_type": "stream",
     "text": [
      "25\n"
     ]
    }
   ],
   "source": [
    "def squared_call(func_1, arg):\n",
    "    \"\"\"Call function func_1 on the result of calling func_1 on the argument arg\"\"\"\n",
    "    return func_1(func_1(arg))\n",
    "\n",
    "print(squared_call(mult_by_five, 1)) # should be 25"
   ]
  },
  {
   "cell_type": "code",
   "execution_count": 44,
   "id": "fbfcc33d-9955-4561-901d-a87dc4429e6b",
   "metadata": {},
   "outputs": [
    {
     "name": "stdout",
     "output_type": "stream",
     "text": [
      "125\n"
     ]
    }
   ],
   "source": [
    "print(squared_call(mult_by_five, 5)) # should be 125"
   ]
  },
  {
   "cell_type": "code",
   "execution_count": 17,
   "id": "3be742d0-1393-460f-9696-850fbd0c92f3",
   "metadata": {},
   "outputs": [
    {
     "name": "stdout",
     "output_type": "stream",
     "text": [
      "Which number is biggest? Answer: 100\n",
      "Which number is biggest modulo 5? Answer: 14\n",
      "mod_5(100) = 0\n",
      "mod_5(51) = 1\n",
      "mod_5(14) = 4\n",
      "Mod_4(14) is clearly greater here\n",
      "therefore 14 is returned as the argument that yields greatest result in the function\n",
      "4\n"
     ]
    }
   ],
   "source": [
    "## Passing in a function using the optional key argument / argmax\n",
    "\n",
    "def mod_5(x):\n",
    "    \"\"\"Return the remainder of x after dividing by 5\"\"\"\n",
    "    return x % 5\n",
    "\n",
    "print('Which number is biggest? Answer:', max(100, 51, 14)) # using built-in max function\n",
    "print('Which number is biggest modulo 5? Answer:', max(100, 51, 14, key = mod_5)) \n",
    "print('mod_5(100) =', mod_5(100))\n",
    "print('mod_5(51) =', mod_5(51))\n",
    "print('mod_5(14) =', mod_5(14)) # the modulo is 4, which is greater than 0 and 1, therefore argmax is returning the greatest modulo\n",
    "\n",
    "print('Mod_4(14) is clearly greater here',\n",
    "      'therefore 14 is returned as the argument that yields greatest result in the function', \n",
    "      max(mod_5(100), mod_5(51), mod_5(14)),\n",
    "      sep = '\\n'\n",
    ")"
   ]
  },
  {
   "cell_type": "markdown",
   "id": "baa978c0-8541-45c1-abd5-e4d4f16ff5bd",
   "metadata": {},
   "source": [
    "## Booleans and Conditionals"
   ]
  },
  {
   "cell_type": "code",
   "execution_count": 20,
   "id": "e819fa3f-c54d-4fac-91a9-264f810f8246",
   "metadata": {},
   "outputs": [
    {
     "name": "stdout",
     "output_type": "stream",
     "text": [
      "Can a 19-year-old run for president? False\n",
      "Can a 45-year-old run for president? False\n",
      "Can a 45-year-old run for president? True\n"
     ]
    }
   ],
   "source": [
    "def can_run_for_president(age, is_natural_born_citizen):\n",
    "    \"\"\"Can someone of the given age and citizenship status run for president in the US?\n",
    "\n",
    "    According to the US Constitution, you must be a natural born citizen and at least 35 years old\"\"\"\n",
    "\n",
    "    return (age >= 35) and is_natural_born_citizen\n",
    "\n",
    "print(\"Can a 19-year-old run for president?\", can_run_for_president(19, True))\n",
    "print(\"Can a 45-year-old run for president?\", can_run_for_president(55, False))\n",
    "print(\"Can a 45-year-old run for president?\", can_run_for_president(55, True))"
   ]
  },
  {
   "cell_type": "code",
   "execution_count": 21,
   "id": "4420f1d9-156c-4953-a769-14d621a5d82d",
   "metadata": {
    "scrolled": true
   },
   "outputs": [
    {
     "name": "stdout",
     "output_type": "stream",
     "text": [
      "Help on function can_run_for_president in module __main__:\n",
      "\n",
      "can_run_for_president(age, is_natural_born_citizen)\n",
      "    Can someone of the given age and citizenship status run for president in the US?\n",
      "\n",
      "    According to the US Constitution, you must be a natural born citizen and at least 35 years old\n",
      "\n"
     ]
    }
   ],
   "source": [
    "help(can_run_for_president)"
   ]
  },
  {
   "cell_type": "markdown",
   "id": "521d206f-36d1-45d0-adc7-74ad22678224",
   "metadata": {},
   "source": [
    "if statements in Python use if (): / elif (): / else:"
   ]
  },
  {
   "cell_type": "markdown",
   "id": "83d9ca66-3f30-44aa-8474-7f666af13327",
   "metadata": {},
   "source": [
    "## Lists"
   ]
  },
  {
   "cell_type": "code",
   "execution_count": 36,
   "id": "46770cb9-6c85-41c3-9538-11367fe359ca",
   "metadata": {},
   "outputs": [
    {
     "name": "stdout",
     "output_type": "stream",
     "text": [
      "[2, 3, 5, 7]\n",
      "['Belle', 'Gaston', 'Beast', 'Maurice', 'Chip', 'Mrs. Potts', 'LeFou', 'Lumiere', 'Cogsworth']\n",
      "Belle\n"
     ]
    }
   ],
   "source": [
    "primes = [2, 3, 5, 7]\n",
    "beauty_and_the_beast_characters = ['Belle', 'Gaston', 'Beast', 'Maurice', 'Chip', 'Mrs. Potts', 'LeFou', 'Lumiere', 'Cogsworth']\n",
    "print(primes)\n",
    "print(beauty_and_the_beast_characters)\n",
    "print(beauty_and_the_beast_characters[0])"
   ]
  },
  {
   "cell_type": "code",
   "execution_count": 45,
   "id": "ba0af78b-9618-4dcb-b374-68a15dcc340c",
   "metadata": {},
   "outputs": [
    {
     "name": "stdout",
     "output_type": "stream",
     "text": [
      "[['Belle', 'Beast', 'Gaston', 'LeFou'], ['Ariel', 'Eric', 'Ursula', 'Flotsam', 'Jetsam', 'Triton'], ['Jasmine', 'Aladdin', 'Jafar', 'Iago', 'Abu']]\n",
      "['Belle', 'Beast', 'Gaston', 'LeFou']\n",
      "LeFou\n"
     ]
    }
   ],
   "source": [
    "## List of lists!\n",
    "disney_characters = [\n",
    "    ['Belle', 'Beast', 'Gaston', 'LeFou'],\n",
    "    ['Ariel', 'Eric', 'Ursula', 'Flotsam', 'Jetsam', 'Triton'],\n",
    "    ['Jasmine', 'Aladdin', 'Jafar', 'Iago', 'Abu']\n",
    "]\n",
    "\n",
    "print(disney_characters) ## Lists can be of uneven size!\n",
    "print(disney_characters[0]) # grabbing the first list\n",
    "print(disney_characters[0][-1]) # grabbing element at the end of the first list"
   ]
  },
  {
   "cell_type": "code",
   "execution_count": 29,
   "id": "45ea37f9-d80a-433c-99bf-306c096fa058",
   "metadata": {},
   "outputs": [],
   "source": [
    "## List with different types of variables - including functions!\n",
    "random_stuff = [32, 'Mufasa', max]"
   ]
  },
  {
   "cell_type": "code",
   "execution_count": 43,
   "id": "34a42fe1-4055-45c2-9bcd-b9d273ffb621",
   "metadata": {},
   "outputs": [
    {
     "name": "stdout",
     "output_type": "stream",
     "text": [
      "Triton\n",
      "Jetsam\n",
      "Flotsam\n"
     ]
    }
   ],
   "source": [
    "## Elements at the end of the list can be accessed with negative numbers, starting from -1:\n",
    "print(disney_characters[1][-1]) # element most far back\n",
    "print(disney_characters[1][-2]) # second most far back element\n",
    "print(disney_characters[1][-3]) # third most far back element"
   ]
  },
  {
   "cell_type": "code",
   "execution_count": 50,
   "id": "26427738-10da-4810-80e7-8840ef83fdea",
   "metadata": {},
   "outputs": [
    {
     "name": "stdout",
     "output_type": "stream",
     "text": [
      "[['Belle', 'Beast', 'Gaston', 'LeFou'], ['Ariel', 'Eric', 'Ursula', 'Flotsam', 'Jetsam', 'Triton']]\n",
      "The bad guys of The Little Mermaid: ['Ursula', 'Flotsam', 'Jetsam']\n"
     ]
    }
   ],
   "source": [
    "## Slicing practice\n",
    "print(disney_characters[0:2]) ## just first two movies - starting from index 0 BUT NOT INCLUDING index 2\n",
    "\n",
    "# just the bad guys of The Little Mermaid\n",
    "print('The bad guys of The Little Mermaid:', disney_characters[1][2:5])"
   ]
  },
  {
   "cell_type": "code",
   "execution_count": 53,
   "id": "d7eef526-a8c7-4c0a-8aa1-79323c95cb89",
   "metadata": {},
   "outputs": [
    {
     "name": "stdout",
     "output_type": "stream",
     "text": [
      "['Belle', 'Beast']\n",
      "['Belle', 'Beast']\n"
     ]
    }
   ],
   "source": [
    "## Leaving out the start index is assumed to be 0\n",
    "print(disney_characters[0][0:2])\n",
    "print(disney_characters[0][:2])"
   ]
  },
  {
   "cell_type": "code",
   "execution_count": 61,
   "id": "42a2e779-54d0-4cb8-a22e-72f4fdd9d162",
   "metadata": {},
   "outputs": [
    {
     "name": "stdout",
     "output_type": "stream",
     "text": [
      "['Belle', 'Beast', 'Gaston', 'LeFou']\n",
      "['Belle', 'Beast', 'Gaston', 'LeFou']\n",
      "The bad guys of Beauty and the Beast: ['Gaston', 'LeFou']\n"
     ]
    }
   ],
   "source": [
    "## Leaving out the end index is assumed to be the length of the list\n",
    "print(disney_characters[0][0:4])\n",
    "print(disney_characters[0][:])\n",
    "print('The bad guys of Beauty and the Beast:', disney_characters[0][2:])"
   ]
  },
  {
   "cell_type": "code",
   "execution_count": 64,
   "id": "65d722b3-bc98-4a70-8752-217bfeeef171",
   "metadata": {},
   "outputs": [
    {
     "name": "stdout",
     "output_type": "stream",
     "text": [
      "['Aladdin', 'Jafar', 'Iago']\n"
     ]
    }
   ],
   "source": [
    "# All Aladdin characters but the first and last in the list\n",
    "print(disney_characters[2][1:-1]) # so starting from index 1, selecting up to the last element but not including it"
   ]
  },
  {
   "cell_type": "code",
   "execution_count": 66,
   "id": "db25d4b9-3a96-4a35-b91d-fd481115bdb6",
   "metadata": {},
   "outputs": [
    {
     "name": "stdout",
     "output_type": "stream",
     "text": [
      "['Jafar', 'Iago', 'Abu']\n"
     ]
    }
   ],
   "source": [
    "# Select the last 3 characters in Aladdin\n",
    "print(disney_characters[2][-3:]) # starting with the third to last element, then selecting to the end of the list"
   ]
  },
  {
   "cell_type": "markdown",
   "id": "1361ff5b-3245-4731-a815-2a199325a081",
   "metadata": {},
   "source": [
    "Lists are mutable, meaning they can be modified \"in place\" - such as by assigning to an index or slice expression"
   ]
  },
  {
   "cell_type": "code",
   "execution_count": 67,
   "id": "9646f26e-f88f-41ba-a7eb-a137f01daaa1",
   "metadata": {},
   "outputs": [
    {
     "data": {
      "text/plain": [
       "['Ariel', 'Eric', 'Ursula', 'Flotsam', 'Jetsam', 'Flounder']"
      ]
     },
     "execution_count": 67,
     "metadata": {},
     "output_type": "execute_result"
    }
   ],
   "source": [
    "disney_characters[1][-1] = 'Flounder' # replacing last character of The Little Mermaid list with Flounder\n",
    "disney_characters[1]"
   ]
  },
  {
   "cell_type": "code",
   "execution_count": 68,
   "id": "dc9841eb-820b-4f83-99b1-c0a81aee7fd9",
   "metadata": {},
   "outputs": [],
   "source": [
    "# modifying multiple elements in a list\n",
    "disney_characters[1][-3:-1] = ['Sebastian', 'Grimsby'] # replacing just Flotsam and Jetsam"
   ]
  },
  {
   "cell_type": "code",
   "execution_count": 69,
   "id": "92c5082d-80d7-4917-a6c2-7f2c0d35f038",
   "metadata": {},
   "outputs": [
    {
     "data": {
      "text/plain": [
       "['Ariel', 'Eric', 'Ursula', 'Sebastian', 'Grimsby', 'Flounder']"
      ]
     },
     "execution_count": 69,
     "metadata": {},
     "output_type": "execute_result"
    }
   ],
   "source": [
    "disney_characters[1]"
   ]
  },
  {
   "cell_type": "code",
   "execution_count": 84,
   "id": "9a18e85e-0fdc-4cc3-897f-791187474592",
   "metadata": {},
   "outputs": [
    {
     "name": "stdout",
     "output_type": "stream",
     "text": [
      "6\n",
      "3\n",
      "Max index = len(lst) - 1, as with disney_characters: 2\n"
     ]
    }
   ],
   "source": [
    "## List functions\n",
    "print(len(disney_characters[1])) # bc 6 elements in this list\n",
    "print(len(disney_characters)) # bc three lists in this list\n",
    "print('Max index = len(lst) - 1, as with disney_characters:', len(disney_characters) - 1)"
   ]
  },
  {
   "cell_type": "code",
   "execution_count": 72,
   "id": "7817642b-aea1-4e93-8d80-531e2f209664",
   "metadata": {},
   "outputs": [
    {
     "name": "stdout",
     "output_type": "stream",
     "text": [
      "['Ariel', 'Eric', 'Flounder', 'Grimsby', 'Sebastian', 'Ursula']\n"
     ]
    }
   ],
   "source": [
    "print(sorted(disney_characters[1]))"
   ]
  },
  {
   "cell_type": "code",
   "execution_count": 79,
   "id": "d215e7e6-3c30-4b6d-b92f-5d31837676b1",
   "metadata": {},
   "outputs": [
    {
     "name": "stdout",
     "output_type": "stream",
     "text": [
      "2\n",
      "['Abu', 'Aladdin', 'Iago', 'Jafar', 'Jasmine']\n",
      "1\n",
      "['Ariel', 'Eric', 'Flounder', 'Grimsby', 'Sebastian', 'Ursula']\n",
      "0\n",
      "['Beast', 'Belle', 'Gaston', 'LeFou']\n"
     ]
    }
   ],
   "source": [
    "# trying to change the lists to be the sorted versions\n",
    "index = 2\n",
    "\n",
    "while (index < 3) and (index >= 0):\n",
    "    print(index)\n",
    "    print(disney_characters[index])\n",
    "    disney_characters[index] = sorted(disney_characters[index])\n",
    "    index -= 1\n"
   ]
  },
  {
   "cell_type": "code",
   "execution_count": 81,
   "id": "cb6f0b67-15b1-44da-9956-0a625dfe1dc3",
   "metadata": {},
   "outputs": [
    {
     "name": "stdout",
     "output_type": "stream",
     "text": [
      "[['Beast', 'Belle', 'Gaston', 'LeFou'], ['Ariel', 'Eric', 'Flounder', 'Grimsby', 'Sebastian', 'Ursula'], ['Abu', 'Aladdin', 'Iago', 'Jafar', 'Jasmine']]\n"
     ]
    }
   ],
   "source": [
    "print(disney_characters) # all sorted!"
   ]
  },
  {
   "cell_type": "code",
   "execution_count": 82,
   "id": "0790ea95-6ef4-4c4c-a7c6-326c7f5ff6d8",
   "metadata": {},
   "outputs": [
    {
     "data": {
      "text/plain": [
       "17"
      ]
     },
     "execution_count": 82,
     "metadata": {},
     "output_type": "execute_result"
    }
   ],
   "source": [
    "sum(primes)"
   ]
  },
  {
   "cell_type": "code",
   "execution_count": 83,
   "id": "2f7794a9-85a9-46f6-bf7f-77f207fcaeb4",
   "metadata": {},
   "outputs": [
    {
     "data": {
      "text/plain": [
       "7"
      ]
     },
     "execution_count": 83,
     "metadata": {},
     "output_type": "execute_result"
    }
   ],
   "source": [
    "max(primes)"
   ]
  },
  {
   "cell_type": "code",
   "execution_count": 88,
   "id": "89491a36-f021-43ec-9298-4e7484b74779",
   "metadata": {},
   "outputs": [],
   "source": [
    "# Appending\n",
    "disney_characters[0].append('Lumiere')\n",
    "disney_characters[0].append('Cogsworth')"
   ]
  },
  {
   "cell_type": "code",
   "execution_count": 89,
   "id": "749ab56a-cc47-4d0e-8fc2-552f5e11cf26",
   "metadata": {},
   "outputs": [
    {
     "name": "stdout",
     "output_type": "stream",
     "text": [
      "['Beast', 'Belle', 'Gaston', 'LeFou', 'Lumiere', 'Cogsworth']\n"
     ]
    }
   ],
   "source": [
    "print(disney_characters[0])"
   ]
  },
  {
   "cell_type": "code",
   "execution_count": 90,
   "id": "b54eceb6-4b19-4dc2-b0d9-b84b594f5945",
   "metadata": {},
   "outputs": [
    {
     "name": "stdout",
     "output_type": "stream",
     "text": [
      "[['Beast', 'Belle', 'Gaston', 'LeFou', 'Lumiere', 'Cogsworth'], ['Ariel', 'Eric', 'Flounder', 'Grimsby', 'Sebastian', 'Ursula'], ['Abu', 'Aladdin', 'Iago', 'Jafar', 'Jasmine'], ['Simba', 'Mufasa', 'Nala', 'Sarabi', 'Scar']]\n"
     ]
    }
   ],
   "source": [
    "disney_characters.append(['Simba', 'Mufasa', 'Nala', 'Sarabi', 'Scar'])\n",
    "print(disney_characters)"
   ]
  },
  {
   "cell_type": "code",
   "execution_count": 91,
   "id": "11c37902-c1b0-48b6-b2fa-3665fe3470f5",
   "metadata": {},
   "outputs": [
    {
     "name": "stdout",
     "output_type": "stream",
     "text": [
      "Help on built-in function append:\n",
      "\n",
      "append(object, /) method of builtins.list instance\n",
      "    Append object to the end of the list.\n",
      "\n"
     ]
    }
   ],
   "source": [
    "help(disney_characters.append)"
   ]
  },
  {
   "cell_type": "code",
   "execution_count": 92,
   "id": "a1a2c841-542c-4d6d-aa2b-a91fc6299c81",
   "metadata": {},
   "outputs": [
    {
     "data": {
      "text/plain": [
       "'Scar'"
      ]
     },
     "execution_count": 92,
     "metadata": {},
     "output_type": "execute_result"
    }
   ],
   "source": [
    "## List.Pop() REMOVES and returns the last element of the list:\n",
    "disney_characters[3].pop()"
   ]
  },
  {
   "cell_type": "code",
   "execution_count": 93,
   "id": "40615645-d0ab-44b5-9efd-46fa296f9ba6",
   "metadata": {},
   "outputs": [
    {
     "data": {
      "text/plain": [
       "['Simba', 'Mufasa', 'Nala', 'Sarabi']"
      ]
     },
     "execution_count": 93,
     "metadata": {},
     "output_type": "execute_result"
    }
   ],
   "source": [
    "disney_characters[3]"
   ]
  },
  {
   "cell_type": "code",
   "execution_count": 94,
   "id": "5d846b5e-0c75-4e76-bbf2-7b7cebba3c9e",
   "metadata": {},
   "outputs": [
    {
     "data": {
      "text/plain": [
       "2"
      ]
     },
     "execution_count": 94,
     "metadata": {},
     "output_type": "execute_result"
    }
   ],
   "source": [
    "## Getting the index\n",
    "disney_characters[3].index('Nala')"
   ]
  },
  {
   "cell_type": "code",
   "execution_count": 95,
   "id": "a87c693f-c771-4a20-9a09-5b1cd525bd79",
   "metadata": {},
   "outputs": [
    {
     "name": "stdout",
     "output_type": "stream",
     "text": [
      "False\n",
      "True\n"
     ]
    }
   ],
   "source": [
    "## IN operator to determine what is in lists or not\n",
    "print('Scar' in disney_characters[3])\n",
    "print('Sarabi' in disney_characters[3])"
   ]
  },
  {
   "cell_type": "code",
   "execution_count": 96,
   "id": "2def740b-e0e9-488f-b926-5b622dc3b513",
   "metadata": {},
   "outputs": [
    {
     "name": "stdout",
     "output_type": "stream",
     "text": [
      "Help on list object:\n",
      "\n",
      "class list(object)\n",
      " |  list(iterable=(), /)\n",
      " |\n",
      " |  Built-in mutable sequence.\n",
      " |\n",
      " |  If no argument is given, the constructor creates a new empty list.\n",
      " |  The argument must be an iterable if specified.\n",
      " |\n",
      " |  Methods defined here:\n",
      " |\n",
      " |  __add__(self, value, /)\n",
      " |      Return self+value.\n",
      " |\n",
      " |  __contains__(self, key, /)\n",
      " |      Return bool(key in self).\n",
      " |\n",
      " |  __delitem__(self, key, /)\n",
      " |      Delete self[key].\n",
      " |\n",
      " |  __eq__(self, value, /)\n",
      " |      Return self==value.\n",
      " |\n",
      " |  __ge__(self, value, /)\n",
      " |      Return self>=value.\n",
      " |\n",
      " |  __getattribute__(self, name, /)\n",
      " |      Return getattr(self, name).\n",
      " |\n",
      " |  __getitem__(self, index, /)\n",
      " |      Return self[index].\n",
      " |\n",
      " |  __gt__(self, value, /)\n",
      " |      Return self>value.\n",
      " |\n",
      " |  __iadd__(self, value, /)\n",
      " |      Implement self+=value.\n",
      " |\n",
      " |  __imul__(self, value, /)\n",
      " |      Implement self*=value.\n",
      " |\n",
      " |  __init__(self, /, *args, **kwargs)\n",
      " |      Initialize self.  See help(type(self)) for accurate signature.\n",
      " |\n",
      " |  __iter__(self, /)\n",
      " |      Implement iter(self).\n",
      " |\n",
      " |  __le__(self, value, /)\n",
      " |      Return self<=value.\n",
      " |\n",
      " |  __len__(self, /)\n",
      " |      Return len(self).\n",
      " |\n",
      " |  __lt__(self, value, /)\n",
      " |      Return self<value.\n",
      " |\n",
      " |  __mul__(self, value, /)\n",
      " |      Return self*value.\n",
      " |\n",
      " |  __ne__(self, value, /)\n",
      " |      Return self!=value.\n",
      " |\n",
      " |  __repr__(self, /)\n",
      " |      Return repr(self).\n",
      " |\n",
      " |  __reversed__(self, /)\n",
      " |      Return a reverse iterator over the list.\n",
      " |\n",
      " |  __rmul__(self, value, /)\n",
      " |      Return value*self.\n",
      " |\n",
      " |  __setitem__(self, key, value, /)\n",
      " |      Set self[key] to value.\n",
      " |\n",
      " |  __sizeof__(self, /)\n",
      " |      Return the size of the list in memory, in bytes.\n",
      " |\n",
      " |  append(self, object, /)\n",
      " |      Append object to the end of the list.\n",
      " |\n",
      " |  clear(self, /)\n",
      " |      Remove all items from list.\n",
      " |\n",
      " |  copy(self, /)\n",
      " |      Return a shallow copy of the list.\n",
      " |\n",
      " |  count(self, value, /)\n",
      " |      Return number of occurrences of value.\n",
      " |\n",
      " |  extend(self, iterable, /)\n",
      " |      Extend list by appending elements from the iterable.\n",
      " |\n",
      " |  index(self, value, start=0, stop=9223372036854775807, /)\n",
      " |      Return first index of value.\n",
      " |\n",
      " |      Raises ValueError if the value is not present.\n",
      " |\n",
      " |  insert(self, index, object, /)\n",
      " |      Insert object before index.\n",
      " |\n",
      " |  pop(self, index=-1, /)\n",
      " |      Remove and return item at index (default last).\n",
      " |\n",
      " |      Raises IndexError if list is empty or index is out of range.\n",
      " |\n",
      " |  remove(self, value, /)\n",
      " |      Remove first occurrence of value.\n",
      " |\n",
      " |      Raises ValueError if the value is not present.\n",
      " |\n",
      " |  reverse(self, /)\n",
      " |      Reverse *IN PLACE*.\n",
      " |\n",
      " |  sort(self, /, *, key=None, reverse=False)\n",
      " |      Sort the list in ascending order and return None.\n",
      " |\n",
      " |      The sort is in-place (i.e. the list itself is modified) and stable (i.e. the\n",
      " |      order of two equal elements is maintained).\n",
      " |\n",
      " |      If a key function is given, apply it once to each list item and sort them,\n",
      " |      ascending or descending, according to their function values.\n",
      " |\n",
      " |      The reverse flag can be set to sort in descending order.\n",
      " |\n",
      " |  ----------------------------------------------------------------------\n",
      " |  Class methods defined here:\n",
      " |\n",
      " |  __class_getitem__(object, /)\n",
      " |      See PEP 585\n",
      " |\n",
      " |  ----------------------------------------------------------------------\n",
      " |  Static methods defined here:\n",
      " |\n",
      " |  __new__(*args, **kwargs)\n",
      " |      Create and return a new object.  See help(type) for accurate signature.\n",
      " |\n",
      " |  ----------------------------------------------------------------------\n",
      " |  Data and other attributes defined here:\n",
      " |\n",
      " |  __hash__ = None\n",
      "\n"
     ]
    }
   ],
   "source": [
    "## for all possible list methods:\n",
    "help(disney_characters[3])"
   ]
  }
 ],
 "metadata": {
  "kernelspec": {
   "display_name": "Python 3 (ipykernel)",
   "language": "python",
   "name": "python3"
  },
  "language_info": {
   "codemirror_mode": {
    "name": "ipython",
    "version": 3
   },
   "file_extension": ".py",
   "mimetype": "text/x-python",
   "name": "python",
   "nbconvert_exporter": "python",
   "pygments_lexer": "ipython3",
   "version": "3.13.5"
  }
 },
 "nbformat": 4,
 "nbformat_minor": 5
}
