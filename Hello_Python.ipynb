{
 "cells": [
  {
   "cell_type": "markdown",
   "id": "382940f7-9d64-4ca0-90a6-65d9e89ae068",
   "metadata": {},
   "source": [
    "# Hello, Python: Kaggle"
   ]
  },
  {
   "cell_type": "markdown",
   "id": "ee62bf84-f0e7-42cc-b1c7-05c94085d8d3",
   "metadata": {},
   "source": [
    "4 Sept 2025: This serves as a refresher for me, it's just been a while since I worked with Python. I glossed over the portions of the course I still fully understand / remember and focused on the parts I'm rusty with.\n",
    "\n",
    "Tutorial: https://www.kaggle.com/code/colinmorris/hello-python"
   ]
  },
  {
   "cell_type": "markdown",
   "id": "4f0001de-f7ee-4896-a34b-777b416d848e",
   "metadata": {},
   "source": [
    "## Hello, Python"
   ]
  },
  {
   "cell_type": "code",
   "execution_count": 4,
   "id": "aa4df7f5-4f94-44fd-b060-4a1275c5933c",
   "metadata": {},
   "outputs": [
    {
     "name": "stdout",
     "output_type": "stream",
     "text": [
      "SpamSpamSpamSpam\n"
     ]
    }
   ],
   "source": [
    "## apparently this is known as \"operator overloading\"\n",
    "spam_amount = 4\n",
    "viking_song = \"Spam\" * spam_amount\n",
    "print(viking_song)"
   ]
  },
  {
   "cell_type": "code",
   "execution_count": 9,
   "id": "c7d79944-3785-46fb-9a35-fd9f3731c032",
   "metadata": {},
   "outputs": [
    {
     "data": {
      "text/plain": [
       "int"
      ]
     },
     "execution_count": 9,
     "metadata": {},
     "output_type": "execute_result"
    }
   ],
   "source": [
    "type(spam_amount)\n",
    "# type(viking_song) # reminder to self that in situations like this, only the latter statement prints"
   ]
  },
  {
   "cell_type": "code",
   "execution_count": 7,
   "id": "af809889-7953-40c8-8ff9-3c77c387c668",
   "metadata": {},
   "outputs": [
    {
     "data": {
      "text/plain": [
       "str"
      ]
     },
     "execution_count": 7,
     "metadata": {},
     "output_type": "execute_result"
    }
   ],
   "source": [
    "type(viking_song)"
   ]
  },
  {
   "cell_type": "code",
   "execution_count": 11,
   "id": "be6c16de-4aab-46fb-8db0-0545fb864cc7",
   "metadata": {},
   "outputs": [
    {
     "name": "stdout",
     "output_type": "stream",
     "text": [
      "2.5\n",
      "3.0\n"
     ]
    }
   ],
   "source": [
    "print(5 / 2)\n",
    "print(6 / 2)\n",
    "\n",
    "# interesting - why is it that both print statements show here but invoking type twice only returns the later statement? RM"
   ]
  },
  {
   "cell_type": "code",
   "execution_count": 12,
   "id": "0366640d-5726-4bae-a7b4-dae56e7e51eb",
   "metadata": {},
   "outputs": [
    {
     "name": "stdout",
     "output_type": "stream",
     "text": [
      "2\n",
      "3\n"
     ]
    }
   ],
   "source": [
    "print (5 // 2) # the // operator gives a result that's rounded down to the next integer, unlike the / operator that returns a float\n",
    "print(6 // 2)"
   ]
  },
  {
   "cell_type": "code",
   "execution_count": 19,
   "id": "af09e696-a162-45d5-b3f3-0fbb05513f9b",
   "metadata": {},
   "outputs": [
    {
     "name": "stdout",
     "output_type": "stream",
     "text": [
      "Number of songs in my 2025 Spotify playlist = 101\n",
      "How in the world do I only have 101 songs in my Spotify playlist by September??\n",
      "How in the world do I only have 101 songs in my Spotify playlist by September??\n"
     ]
    }
   ],
   "source": [
    " # I forgot how interesting print statements can be in Python hehe\n",
    "\n",
    "num_songs = 101\n",
    "print(\"Number of songs in my 2025 Spotify playlist =\", num_songs)\n",
    "print(\"How in the world do I only have\", num_songs, \"songs in my 2025 Spotify playlist by September??\") \n",
    "# note the space auto-added before num_songs is printed\n",
    "\n",
    "print(\"How in the world do I only have \" + str(num_songs) + \" songs in my 2025 Spotify playlist by September??\") # the classic option"
   ]
  },
  {
   "cell_type": "code",
   "execution_count": 20,
   "id": "c43f24ef-bec7-4928-ba2c-161ac806da5c",
   "metadata": {},
   "outputs": [
    {
     "name": "stdout",
     "output_type": "stream",
     "text": [
      "🙏☕🐟📖\n"
     ]
    }
   ],
   "source": [
    "# can I print emojis??\n",
    "\n",
    "print(\"🙏☕🐟📖\")"
   ]
  },
  {
   "cell_type": "code",
   "execution_count": 21,
   "id": "3083b1be-e90d-4338-944e-9cf451c890f4",
   "metadata": {},
   "outputs": [
    {
     "name": "stdout",
     "output_type": "stream",
     "text": [
      "1\n",
      "3\n"
     ]
    }
   ],
   "source": [
    "print(min(1, 2, 3))\n",
    "print(max(1, 2, 3))"
   ]
  },
  {
   "cell_type": "code",
   "execution_count": 23,
   "id": "6d5be3af-f66c-4470-99f5-337d5de19834",
   "metadata": {},
   "outputs": [
    {
     "data": {
      "text/plain": [
       "59"
      ]
     },
     "execution_count": 23,
     "metadata": {},
     "output_type": "execute_result"
    }
   ],
   "source": [
    "int('807')\n",
    "int('59')"
   ]
  },
  {
   "cell_type": "markdown",
   "id": "867f04c7-681c-4771-a4ae-da7121dd2b01",
   "metadata": {},
   "source": [
    "## Functions and Getting Help"
   ]
  },
  {
   "cell_type": "code",
   "execution_count": 25,
   "id": "c9bc714d-58a5-4f20-9b07-65a6e0f3c4ed",
   "metadata": {},
   "outputs": [
    {
     "name": "stdout",
     "output_type": "stream",
     "text": [
      "Help on built-in function round in module builtins:\n",
      "\n",
      "round(number, ndigits=None)\n",
      "    Round a number to a given precision in decimal digits.\n",
      "\n",
      "    The return value is an integer if ndigits is omitted or None.  Otherwise\n",
      "    the return value has the same type as the number.  ndigits may be negative.\n",
      "\n"
     ]
    }
   ],
   "source": [
    "help(round)"
   ]
  },
  {
   "cell_type": "code",
   "execution_count": 27,
   "id": "a73e4554-73fb-4fa4-8285-9d85da914f86",
   "metadata": {},
   "outputs": [
    {
     "name": "stdout",
     "output_type": "stream",
     "text": [
      "Help on int object:\n",
      "\n",
      "class int(object)\n",
      " |  int([x]) -> integer\n",
      " |  int(x, base=10) -> integer\n",
      " |\n",
      " |  Convert a number or string to an integer, or return 0 if no arguments\n",
      " |  are given.  If x is a number, return x.__int__().  For floating-point\n",
      " |  numbers, this truncates towards zero.\n",
      " |\n",
      " |  If x is not a number or if base is given, then x must be a string,\n",
      " |  bytes, or bytearray instance representing an integer literal in the\n",
      " |  given base.  The literal can be preceded by '+' or '-' and be surrounded\n",
      " |  by whitespace.  The base defaults to 10.  Valid bases are 0 and 2-36.\n",
      " |  Base 0 means to interpret the base from the string as an integer literal.\n",
      " |  >>> int('0b100', base=0)\n",
      " |  4\n",
      " |\n",
      " |  Built-in subclasses:\n",
      " |      bool\n",
      " |\n",
      " |  Methods defined here:\n",
      " |\n",
      " |  __abs__(self, /)\n",
      " |      abs(self)\n",
      " |\n",
      " |  __add__(self, value, /)\n",
      " |      Return self+value.\n",
      " |\n",
      " |  __and__(self, value, /)\n",
      " |      Return self&value.\n",
      " |\n",
      " |  __bool__(self, /)\n",
      " |      True if self else False\n",
      " |\n",
      " |  __ceil__(self, /)\n",
      " |      Ceiling of an Integral returns itself.\n",
      " |\n",
      " |  __divmod__(self, value, /)\n",
      " |      Return divmod(self, value).\n",
      " |\n",
      " |  __eq__(self, value, /)\n",
      " |      Return self==value.\n",
      " |\n",
      " |  __float__(self, /)\n",
      " |      float(self)\n",
      " |\n",
      " |  __floor__(self, /)\n",
      " |      Flooring an Integral returns itself.\n",
      " |\n",
      " |  __floordiv__(self, value, /)\n",
      " |      Return self//value.\n",
      " |\n",
      " |  __format__(self, format_spec, /)\n",
      " |      Convert to a string according to format_spec.\n",
      " |\n",
      " |  __ge__(self, value, /)\n",
      " |      Return self>=value.\n",
      " |\n",
      " |  __getattribute__(self, name, /)\n",
      " |      Return getattr(self, name).\n",
      " |\n",
      " |  __getnewargs__(self, /)\n",
      " |\n",
      " |  __gt__(self, value, /)\n",
      " |      Return self>value.\n",
      " |\n",
      " |  __hash__(self, /)\n",
      " |      Return hash(self).\n",
      " |\n",
      " |  __index__(self, /)\n",
      " |      Return self converted to an integer, if self is suitable for use as an index into a list.\n",
      " |\n",
      " |  __int__(self, /)\n",
      " |      int(self)\n",
      " |\n",
      " |  __invert__(self, /)\n",
      " |      ~self\n",
      " |\n",
      " |  __le__(self, value, /)\n",
      " |      Return self<=value.\n",
      " |\n",
      " |  __lshift__(self, value, /)\n",
      " |      Return self<<value.\n",
      " |\n",
      " |  __lt__(self, value, /)\n",
      " |      Return self<value.\n",
      " |\n",
      " |  __mod__(self, value, /)\n",
      " |      Return self%value.\n",
      " |\n",
      " |  __mul__(self, value, /)\n",
      " |      Return self*value.\n",
      " |\n",
      " |  __ne__(self, value, /)\n",
      " |      Return self!=value.\n",
      " |\n",
      " |  __neg__(self, /)\n",
      " |      -self\n",
      " |\n",
      " |  __or__(self, value, /)\n",
      " |      Return self|value.\n",
      " |\n",
      " |  __pos__(self, /)\n",
      " |      +self\n",
      " |\n",
      " |  __pow__(self, value, mod=None, /)\n",
      " |      Return pow(self, value, mod).\n",
      " |\n",
      " |  __radd__(self, value, /)\n",
      " |      Return value+self.\n",
      " |\n",
      " |  __rand__(self, value, /)\n",
      " |      Return value&self.\n",
      " |\n",
      " |  __rdivmod__(self, value, /)\n",
      " |      Return divmod(value, self).\n",
      " |\n",
      " |  __repr__(self, /)\n",
      " |      Return repr(self).\n",
      " |\n",
      " |  __rfloordiv__(self, value, /)\n",
      " |      Return value//self.\n",
      " |\n",
      " |  __rlshift__(self, value, /)\n",
      " |      Return value<<self.\n",
      " |\n",
      " |  __rmod__(self, value, /)\n",
      " |      Return value%self.\n",
      " |\n",
      " |  __rmul__(self, value, /)\n",
      " |      Return value*self.\n",
      " |\n",
      " |  __ror__(self, value, /)\n",
      " |      Return value|self.\n",
      " |\n",
      " |  __round__(self, ndigits=<unrepresentable>, /)\n",
      " |      Rounding an Integral returns itself.\n",
      " |\n",
      " |      Rounding with an ndigits argument also returns an integer.\n",
      " |\n",
      " |  __rpow__(self, value, mod=None, /)\n",
      " |      Return pow(value, self, mod).\n",
      " |\n",
      " |  __rrshift__(self, value, /)\n",
      " |      Return value>>self.\n",
      " |\n",
      " |  __rshift__(self, value, /)\n",
      " |      Return self>>value.\n",
      " |\n",
      " |  __rsub__(self, value, /)\n",
      " |      Return value-self.\n",
      " |\n",
      " |  __rtruediv__(self, value, /)\n",
      " |      Return value/self.\n",
      " |\n",
      " |  __rxor__(self, value, /)\n",
      " |      Return value^self.\n",
      " |\n",
      " |  __sizeof__(self, /)\n",
      " |      Returns size in memory, in bytes.\n",
      " |\n",
      " |  __sub__(self, value, /)\n",
      " |      Return self-value.\n",
      " |\n",
      " |  __truediv__(self, value, /)\n",
      " |      Return self/value.\n",
      " |\n",
      " |  __trunc__(self, /)\n",
      " |      Truncating an Integral returns itself.\n",
      " |\n",
      " |  __xor__(self, value, /)\n",
      " |      Return self^value.\n",
      " |\n",
      " |  as_integer_ratio(self, /)\n",
      " |      Return a pair of integers, whose ratio is equal to the original int.\n",
      " |\n",
      " |      The ratio is in lowest terms and has a positive denominator.\n",
      " |\n",
      " |      >>> (10).as_integer_ratio()\n",
      " |      (10, 1)\n",
      " |      >>> (-10).as_integer_ratio()\n",
      " |      (-10, 1)\n",
      " |      >>> (0).as_integer_ratio()\n",
      " |      (0, 1)\n",
      " |\n",
      " |  bit_count(self, /)\n",
      " |      Number of ones in the binary representation of the absolute value of self.\n",
      " |\n",
      " |      Also known as the population count.\n",
      " |\n",
      " |      >>> bin(13)\n",
      " |      '0b1101'\n",
      " |      >>> (13).bit_count()\n",
      " |      3\n",
      " |\n",
      " |  bit_length(self, /)\n",
      " |      Number of bits necessary to represent self in binary.\n",
      " |\n",
      " |      >>> bin(37)\n",
      " |      '0b100101'\n",
      " |      >>> (37).bit_length()\n",
      " |      6\n",
      " |\n",
      " |  conjugate(self, /)\n",
      " |      Returns self, the complex conjugate of any int.\n",
      " |\n",
      " |  is_integer(self, /)\n",
      " |      Returns True. Exists for duck type compatibility with float.is_integer.\n",
      " |\n",
      " |  to_bytes(self, /, length=1, byteorder='big', *, signed=False)\n",
      " |      Return an array of bytes representing an integer.\n",
      " |\n",
      " |      length\n",
      " |        Length of bytes object to use.  An OverflowError is raised if the\n",
      " |        integer is not representable with the given number of bytes.  Default\n",
      " |        is length 1.\n",
      " |      byteorder\n",
      " |        The byte order used to represent the integer.  If byteorder is 'big',\n",
      " |        the most significant byte is at the beginning of the byte array.  If\n",
      " |        byteorder is 'little', the most significant byte is at the end of the\n",
      " |        byte array.  To request the native byte order of the host system, use\n",
      " |        sys.byteorder as the byte order value.  Default is to use 'big'.\n",
      " |      signed\n",
      " |        Determines whether two's complement is used to represent the integer.\n",
      " |        If signed is False and a negative integer is given, an OverflowError\n",
      " |        is raised.\n",
      " |\n",
      " |  ----------------------------------------------------------------------\n",
      " |  Class methods defined here:\n",
      " |\n",
      " |  from_bytes(bytes, byteorder='big', *, signed=False)\n",
      " |      Return the integer represented by the given array of bytes.\n",
      " |\n",
      " |      bytes\n",
      " |        Holds the array of bytes to convert.  The argument must either\n",
      " |        support the buffer protocol or be an iterable object producing bytes.\n",
      " |        Bytes and bytearray are examples of built-in objects that support the\n",
      " |        buffer protocol.\n",
      " |      byteorder\n",
      " |        The byte order used to represent the integer.  If byteorder is 'big',\n",
      " |        the most significant byte is at the beginning of the byte array.  If\n",
      " |        byteorder is 'little', the most significant byte is at the end of the\n",
      " |        byte array.  To request the native byte order of the host system, use\n",
      " |        sys.byteorder as the byte order value.  Default is to use 'big'.\n",
      " |      signed\n",
      " |        Indicates whether two's complement is used to represent the integer.\n",
      " |\n",
      " |  ----------------------------------------------------------------------\n",
      " |  Static methods defined here:\n",
      " |\n",
      " |  __new__(*args, **kwargs)\n",
      " |      Create and return a new object.  See help(type) for accurate signature.\n",
      " |\n",
      " |  ----------------------------------------------------------------------\n",
      " |  Data descriptors defined here:\n",
      " |\n",
      " |  denominator\n",
      " |      the denominator of a rational number in lowest terms\n",
      " |\n",
      " |  imag\n",
      " |      the imaginary part of a complex number\n",
      " |\n",
      " |  numerator\n",
      " |      the numerator of a rational number in lowest terms\n",
      " |\n",
      " |  real\n",
      " |      the real part of a complex number\n",
      "\n"
     ]
    }
   ],
   "source": [
    "# Python evaluates an expression like this from the inside out\n",
    "# First it calculates the value of round(-2.01), then it provides help on the output of that expression.\n",
    "help(round(-2.01))"
   ]
  },
  {
   "cell_type": "code",
   "execution_count": 30,
   "id": "0224313d-4044-424f-b4c3-23d8d867d655",
   "metadata": {},
   "outputs": [
    {
     "name": "stdout",
     "output_type": "stream",
     "text": [
      "9 0 1\n"
     ]
    }
   ],
   "source": [
    "## defining functions\n",
    "\n",
    "def least_difference(a, b, c):\n",
    "    diff1 = abs(a - b)\n",
    "    diff2 = abs(b - c)\n",
    "    diff3 = abs(a - c)\n",
    "    return min(diff1, diff2, diff3)\n",
    "\n",
    "print(\n",
    "    least_difference(1, 10, 100),\n",
    "    least_difference(1, 10, 10),\n",
    "    least_difference(5, 6, 7)\n",
    ")"
   ]
  },
  {
   "cell_type": "code",
   "execution_count": 33,
   "id": "af1c756c-57e0-40ce-84d6-e4fabc07f878",
   "metadata": {},
   "outputs": [],
   "source": [
    "## To provide a description that will return when calling help on this function - help(least_difference) - write up a docstring!\n",
    "## Docstring is a triple-quoted string, can span multiple lines, comes immediately after the header of a function\n",
    "\n",
    "def least_difference(a, b, c):\n",
    "    # my first docstring ever is below\n",
    "    \"\"\"Return the smallest difference between any two numbers among a, b, and c.\n",
    "\n",
    "    >>> least_difference(1, 5, -5)\n",
    "    4\n",
    "    \"\"\"\n",
    "    \n",
    "    diff1 = abs(a - b)\n",
    "    diff2 = abs(b - c)\n",
    "    diff3 = abs(a - c)\n",
    "    return min(diff1, diff2, diff3)"
   ]
  },
  {
   "cell_type": "code",
   "execution_count": 32,
   "id": "30edefb3-09dd-4720-9fc8-c9f0581de035",
   "metadata": {},
   "outputs": [
    {
     "name": "stdout",
     "output_type": "stream",
     "text": [
      "Help on function least_difference in module __main__:\n",
      "\n",
      "least_difference(a, b, c)\n",
      "    Return the smallest difference between any two numbers among a, b, and c.\n",
      "\n",
      "    >>> least_difference(1, 5, -5)\n",
      "    4\n",
      "\n"
     ]
    }
   ],
   "source": [
    "help(least_difference)"
   ]
  },
  {
   "cell_type": "code",
   "execution_count": 36,
   "id": "1b9c70ad-94a0-4e83-ae48-96374d0e6b69",
   "metadata": {},
   "outputs": [
    {
     "name": "stdout",
     "output_type": "stream",
     "text": [
      "1 < 2 < 3\n"
     ]
    }
   ],
   "source": [
    "## Using a separator (sep)\n",
    "\n",
    "print(1, 2, 3, sep = ' < ')"
   ]
  },
  {
   "cell_type": "code",
   "execution_count": 35,
   "id": "a5927f66-d4b4-431c-af9c-6c7664e2a6a2",
   "metadata": {},
   "outputs": [
    {
     "name": "stdout",
     "output_type": "stream",
     "text": [
      "1 2 3\n"
     ]
    }
   ],
   "source": [
    "## Without specifying a value, sep is treated as having a default value of ' ' (a single space)\n",
    "\n",
    "print(1, 2, 3)"
   ]
  },
  {
   "cell_type": "code",
   "execution_count": 39,
   "id": "b03dd434-bf7f-451a-ac47-4aa0cb56b215",
   "metadata": {},
   "outputs": [
    {
     "name": "stdout",
     "output_type": "stream",
     "text": [
      "Hello, Valued Customer\n",
      "Hello, Elastigirl\n",
      "Hello, Mr. Incredible\n"
     ]
    }
   ],
   "source": [
    "## Functions with default values\n",
    "\n",
    "def greet(cust_name = \"Valued Customer\"):\n",
    "    print(\"Hello,\", cust_name)\n",
    "\n",
    "greet() # will call default value as defined in the function\n",
    "greet(cust_name = \"Elastigirl\")\n",
    "greet(\"Mr. Incredible\")"
   ]
  },
  {
   "cell_type": "code",
   "execution_count": 41,
   "id": "6ecf196d-75bc-4a28-8276-1a712beac91a",
   "metadata": {},
   "outputs": [
    {
     "name": "stdout",
     "output_type": "stream",
     "text": [
      "15\n"
     ]
    }
   ],
   "source": [
    "## Supplying functions as arguments to other functions\n",
    "\n",
    "def mult_by_five(x):\n",
    "    return (5 * x)\n",
    "\n",
    "def call(func_1, arg):\n",
    "    \"\"\"Call function func_1 on the argument arg\"\"\"\n",
    "    return func_1(arg)\n",
    "\n",
    "print(call(mult_by_five, 3))"
   ]
  },
  {
   "cell_type": "code",
   "execution_count": 42,
   "id": "f7dc87c4-f4fc-4141-a44c-2485d2f513db",
   "metadata": {},
   "outputs": [
    {
     "name": "stdout",
     "output_type": "stream",
     "text": [
      "Help on function call in module __main__:\n",
      "\n",
      "call(func_1, arg)\n",
      "    Call function func_1 on the argument arg\n",
      "\n"
     ]
    }
   ],
   "source": [
    "help(call)"
   ]
  },
  {
   "cell_type": "code",
   "execution_count": 43,
   "id": "099ab8fa-87f6-461d-8b62-fe5945705f84",
   "metadata": {},
   "outputs": [
    {
     "name": "stdout",
     "output_type": "stream",
     "text": [
      "25\n"
     ]
    }
   ],
   "source": [
    "def squared_call(func_1, arg):\n",
    "    \"\"\"Call function func_1 on the result of calling func_1 on the argument arg\"\"\"\n",
    "    return func_1(func_1(arg))\n",
    "\n",
    "print(squared_call(mult_by_five, 1)) # should be 25"
   ]
  },
  {
   "cell_type": "code",
   "execution_count": 44,
   "id": "fbfcc33d-9955-4561-901d-a87dc4429e6b",
   "metadata": {},
   "outputs": [
    {
     "name": "stdout",
     "output_type": "stream",
     "text": [
      "125\n"
     ]
    }
   ],
   "source": [
    "print(squared_call(mult_by_five, 5)) # should be 125"
   ]
  },
  {
   "cell_type": "code",
   "execution_count": 17,
   "id": "3be742d0-1393-460f-9696-850fbd0c92f3",
   "metadata": {},
   "outputs": [
    {
     "name": "stdout",
     "output_type": "stream",
     "text": [
      "Which number is biggest? Answer: 100\n",
      "Which number is biggest modulo 5? Answer: 14\n",
      "mod_5(100) = 0\n",
      "mod_5(51) = 1\n",
      "mod_5(14) = 4\n",
      "Mod_4(14) is clearly greater here\n",
      "therefore 14 is returned as the argument that yields greatest result in the function\n",
      "4\n"
     ]
    }
   ],
   "source": [
    "## Passing in a function using the optional key argument / argmax\n",
    "\n",
    "def mod_5(x):\n",
    "    \"\"\"Return the remainder of x after dividing by 5\"\"\"\n",
    "    return x % 5\n",
    "\n",
    "print('Which number is biggest? Answer:', max(100, 51, 14)) # using built-in max function\n",
    "print('Which number is biggest modulo 5? Answer:', max(100, 51, 14, key = mod_5)) \n",
    "print('mod_5(100) =', mod_5(100))\n",
    "print('mod_5(51) =', mod_5(51))\n",
    "print('mod_5(14) =', mod_5(14)) # the modulo is 4, which is greater than 0 and 1, therefore argmax is returning the greatest modulo\n",
    "\n",
    "print('Mod_4(14) is clearly greater here',\n",
    "      'therefore 14 is returned as the argument that yields greatest result in the function', \n",
    "      max(mod_5(100), mod_5(51), mod_5(14)),\n",
    "      sep = '\\n'\n",
    ")"
   ]
  },
  {
   "cell_type": "markdown",
   "id": "baa978c0-8541-45c1-abd5-e4d4f16ff5bd",
   "metadata": {},
   "source": [
    "## Booleans and Conditionals"
   ]
  },
  {
   "cell_type": "code",
   "execution_count": null,
   "id": "e819fa3f-c54d-4fac-91a9-264f810f8246",
   "metadata": {},
   "outputs": [],
   "source": []
  },
  {
   "cell_type": "code",
   "execution_count": null,
   "id": "4420f1d9-156c-4953-a769-14d621a5d82d",
   "metadata": {},
   "outputs": [],
   "source": []
  },
  {
   "cell_type": "code",
   "execution_count": null,
   "id": "7b4f2a14-8428-431e-944a-5823f87299eb",
   "metadata": {},
   "outputs": [],
   "source": []
  }
 ],
 "metadata": {
  "kernelspec": {
   "display_name": "Python 3 (ipykernel)",
   "language": "python",
   "name": "python3"
  },
  "language_info": {
   "codemirror_mode": {
    "name": "ipython",
    "version": 3
   },
   "file_extension": ".py",
   "mimetype": "text/x-python",
   "name": "python",
   "nbconvert_exporter": "python",
   "pygments_lexer": "ipython3",
   "version": "3.13.5"
  }
 },
 "nbformat": 4,
 "nbformat_minor": 5
}
